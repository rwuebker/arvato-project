{
 "cells": [
  {
   "cell_type": "code",
   "execution_count": 1,
   "metadata": {},
   "outputs": [],
   "source": [
    "# import boto3\n",
    "import pandas as pd\n",
    "import numpy as np\n",
    "from sklearn.preprocessing import MinMaxScaler\n",
    "from sklearn.preprocessing import StandardScaler\n",
    "from sklearn.decomposition import PCA\n",
    "from sklearn.cluster import KMeans\n",
    "import matplotlib.pyplot as plt\n",
    "import seaborn as sns\n",
    "plt.style.use('ggplot')\n",
    "\n",
    "from sklearn.compose import ColumnTransformer\n",
    "from sklearn.pipeline import Pipeline\n",
    "from sklearn.impute import SimpleImputer\n",
    "from sklearn.preprocessing import OneHotEncoder\n",
    "from sklearn.preprocessing import OrdinalEncoder\n",
    "from sklearn.model_selection import train_test_split\n",
    "from sklearn.metrics import roc_auc_score\n",
    "from sklearn.metrics import accuracy_score\n",
    "from sklearn.metrics import recall_score\n",
    "from imblearn.under_sampling import NearMiss\n",
    "from imblearn.under_sampling import CondensedNearestNeighbour\n",
    "\n",
    "\n",
    "from sklearn.ensemble import RandomForestClassifier\n",
    "from sklearn.ensemble import GradientBoostingClassifier\n",
    "from sklearn.ensemble import AdaBoostClassifier\n",
    "import xgboost as xgb\n",
    "from imblearn.over_sampling import SMOTE\n",
    "from imblearn.pipeline import Pipeline as IMBPipeline\n",
    "from sklearn.base import BaseEstimator\n",
    "from sklearn.base import TransformerMixin\n",
    "from sklearn.model_selection import cross_val_score\n",
    "from sklearn.model_selection import GridSearchCV\n",
    "from sklearn.linear_model import LogisticRegression\n",
    "from imblearn.ensemble import BalancedBaggingClassifier\n",
    "\n",
    "from xgboost import plot_importance\n",
    "\n",
    "from sklearn.experimental import enable_hist_gradient_boosting  # noqa\n",
    "from sklearn.ensemble import HistGradientBoostingClassifier"
   ]
  },
  {
   "cell_type": "code",
   "execution_count": 2,
   "metadata": {},
   "outputs": [],
   "source": [
    "CAMEO_DEU_2015_MAP = {\n",
    "    '1A': 1,\n",
    "    '1B': 1,\n",
    "    '1C': 1,\n",
    "    '1D': 1,\n",
    "    '1E': 1,\n",
    "    '2A': 2,\n",
    "    '2B': 2,\n",
    "    '2C': 2,\n",
    "    '2D': 2,\n",
    "    '3A': 3,\n",
    "    '3B': 3,\n",
    "    '3C': 3,\n",
    "    '3D': 3,\n",
    "    '4A': 4,\n",
    "    '4B': 4,\n",
    "    '4C': 4,\n",
    "    '4D': 4,\n",
    "    '4E': 4,\n",
    "    '5A': 5,\n",
    "    '5B': 5,\n",
    "    '5C': 5,\n",
    "    '5D': 5,\n",
    "    '5E': 5,\n",
    "    '5F': 5,\n",
    "    '6A': 6,\n",
    "    '6B': 6,\n",
    "    '6C': 6,\n",
    "    '6D': 6,\n",
    "    '6E': 6,\n",
    "    '6F': 6,\n",
    "    '7A': 7,\n",
    "    '7B': 7,\n",
    "    '7C': 7,\n",
    "    '7D': 7,\n",
    "    '7E': 7,\n",
    "    '8A': 8,\n",
    "    '8B': 8,\n",
    "    '8C': 8,\n",
    "    '8D': 8,\n",
    "    '9A': 9,\n",
    "    '9B': 9,\n",
    "    '9C': 9,\n",
    "    '9D': 9,\n",
    "    '9E': 9\n",
    "}\n",
    "\n",
    "PRAEGENDE_JUGENDJAHRE_MAP = {\n",
    "    1: 0,\n",
    "    2: 1,\n",
    "    3: 0,\n",
    "    4: 1,\n",
    "    5: 0,\n",
    "    6: 1,\n",
    "    7: 1,\n",
    "    8: 0,\n",
    "    9: 1,\n",
    "    10: 0,\n",
    "    11: 1,\n",
    "    12: 0,\n",
    "    13: 1,\n",
    "    14: 0,\n",
    "    15: 1\n",
    "}"
   ]
  },
  {
   "cell_type": "code",
   "execution_count": 3,
   "metadata": {},
   "outputs": [
    {
     "name": "stderr",
     "output_type": "stream",
     "text": [
      "/Users/richard.wuebker/.pyenv/versions/science/lib/python3.6/site-packages/IPython/core/interactiveshell.py:3063: DtypeWarning: Columns (18,19) have mixed types.Specify dtype option on import or set low_memory=False.\n",
      "  interactivity=interactivity, compiler=compiler, result=result)\n"
     ]
    }
   ],
   "source": [
    "train_df = pd.read_csv('data/Udacity_MAILOUT_052018_TRAIN.csv', sep=';', index_col='LNR')\n",
    "test_df = pd.read_csv('data/Udacity_MAILOUT_052018_TEST.csv', sep=';', index_col='LNR')\n",
    "metadata = pd.read_csv('data/metadata.csv')"
   ]
  },
  {
   "cell_type": "code",
   "execution_count": 4,
   "metadata": {},
   "outputs": [],
   "source": [
    "def reverse_order(val, mx, mn):\n",
    "    diff_from_low = val - mn \n",
    "    return mx - diff_from_low\n",
    "\n",
    "\n",
    "def default_clean(df, drop_threshold=20, testing=False):\n",
    "    df_ = df.copy()\n",
    "    \n",
    "    print('initial df shape: ', df_.shape)\n",
    "    keep_features = list(metadata[metadata['keep'] == 1]['feature_name'])\n",
    "    if 'RESPONSE' in df.columns:\n",
    "        keep_features.append('RESPONSE')\n",
    "    df_ = df_[keep_features]\n",
    "    \n",
    "    filter_ = df_['CAMEO_DEUG_2015'] != np.nan\n",
    "    df_.loc[filter_, 'CAMEO_DEUG_2015'] = pd.to_numeric(df_.loc[filter_, 'CAMEO_DEUG_2015'], errors='coerce')\n",
    "    \n",
    "    # set zero to negative one where zero means unknown\n",
    "    unknown_zero_features = list(metadata[metadata['unknown_zero'] == 1]['feature_name'])\n",
    "    for feature in unknown_zero_features:\n",
    "        df_.loc[df_[feature] == 0, feature] = -1\n",
    "        \n",
    "    # set nine to negative one where nine means unknown\n",
    "    unknown_nine_features = list(metadata[metadata['unknown_nine'] == 1]['feature_name'])\n",
    "    for feature in unknown_nine_features:\n",
    "        df_.loc[df_[feature] == 9, feature] = -1\n",
    "        \n",
    "        \n",
    "    # special cases\n",
    "    df_['CAMEO_DEUG_2015'].replace('X', np.nan, inplace=True)\n",
    "    #df_['OST_WEST_KZ'].replace('O', 1, inplace=True)\n",
    "    #df_['OST_WEST_KZ'].replace('W', 0, inplace=True)    \n",
    "    df_['CAMEO_DEU_2015'] = df_['CAMEO_DEU_2015'].apply(lambda x: x if x in CAMEO_DEU_2015_MAP else np.nan)\n",
    "    df_['PRAEGENDE_JUGENDJAHRE'] = df_['PRAEGENDE_JUGENDJAHRE'].apply(lambda x: PRAEGENDE_JUGENDJAHRE_MAP[x] if x in PRAEGENDE_JUGENDJAHRE_MAP else np.nan)\n",
    "    \n",
    "    # set -1 (unknown) to np.nan\n",
    "    df_ = df_.replace(-1, np.nan)\n",
    "    \n",
    "    \n",
    "    # change some numerical columns to categorical for one hot encoding:\n",
    "    cat_cols = list(metadata.loc[(metadata['type'] == 'categorical') & (metadata['keep'] == 1), 'feature_name'])\n",
    "    print('cat_cols: ', cat_cols)\n",
    "    for col in cat_cols:\n",
    "        if col in df_.columns:\n",
    "            df_[col] = np.where(df_[col].isnull(), df_[col], df_[col].astype('str'))\n",
    "    df_ = pd.get_dummies(df_, prefix=cat_cols, columns=cat_cols)\n",
    "    \n",
    "    # reverse some cols so higher number = higher feature\n",
    "    reverse_cols = list(metadata.loc[metadata['needs_reverse']==1, 'feature_name'])\n",
    "    for col in reverse_cols:\n",
    "        if col in df_.columns:\n",
    "            series = df_[col]\n",
    "            df_[col] = df_[col].apply(reverse_order, args=(np.max(series), np.min(series)))\n",
    "            \n",
    "            \n",
    "    percent_missing = df_.isnull().sum() * 100 / len(df)\n",
    "    mv_df = pd.DataFrame({'column_name': df_.columns, 'percent_missing': percent_missing})\n",
    "    mv_cols = mv_df.loc[mv_df['percent_missing'] > drop_threshold]['column_name']    \n",
    "    df_ = df_.drop(list(mv_cols), axis=1)\n",
    "    \n",
    "    if True:\n",
    "        thresh = int(len(df_.columns) * 0.85)\n",
    "        if 'RESPONSE' in df_.columns:\n",
    "            grouped = df_.groupby(df_.RESPONSE)\n",
    "            pos = grouped.get_group(1)\n",
    "            neg = grouped.get_group(0)\n",
    "            neg = neg.dropna(thresh=thresh)\n",
    "            df_  = neg.append(pos, verify_integrity=True, ignore_index=False)\n",
    "        else:\n",
    "            df_ = df_.dropna(thresh=thresh)\n",
    "        \n",
    "    #df_ = df_.loc[:, ~df_.columns.str.startswith('KB')]\n",
    "    \n",
    "    print('new df shape: ', df_.shape)\n",
    "    \n",
    "    return df_"
   ]
  },
  {
   "cell_type": "code",
   "execution_count": 5,
   "metadata": {},
   "outputs": [
    {
     "name": "stdout",
     "output_type": "stream",
     "text": [
      "532\n",
      "initial df shape:  (42962, 366)\n",
      "cat_cols:  ['ANREDE_KZ', 'CAMEO_DEU_2015', 'D19_KONSUMTYP', 'GEBAEUDETYP', 'GEBAEUDETYP_RASTER', 'GFK_URLAUBERTYP', 'GREEN_AVANTGARDE', 'HEALTH_TYP', 'KBA05_HERSTTEMP', 'KBA05_MAXHERST', 'KBA05_MODTEMP', 'KBA05_SEG6', 'KONSUMNAEHE', 'NATIONALITAET_KZ', 'OST_WEST_KZ', 'PRAEGENDE_JUGENDJAHRE', 'TITEL_KZ', 'VERS_TYP', 'ZABEOTYP']\n",
      "new df shape:  (34178, 377)\n",
      "initial df shape:  (42833, 365)\n",
      "cat_cols:  ['ANREDE_KZ', 'CAMEO_DEU_2015', 'D19_KONSUMTYP', 'GEBAEUDETYP', 'GEBAEUDETYP_RASTER', 'GFK_URLAUBERTYP', 'GREEN_AVANTGARDE', 'HEALTH_TYP', 'KBA05_HERSTTEMP', 'KBA05_MAXHERST', 'KBA05_MODTEMP', 'KBA05_SEG6', 'KONSUMNAEHE', 'NATIONALITAET_KZ', 'OST_WEST_KZ', 'PRAEGENDE_JUGENDJAHRE', 'TITEL_KZ', 'VERS_TYP', 'ZABEOTYP']\n",
      "new df shape:  (34044, 376)\n"
     ]
    },
    {
     "data": {
      "text/plain": [
       "532"
      ]
     },
     "execution_count": 5,
     "metadata": {},
     "output_type": "execute_result"
    }
   ],
   "source": [
    "print(np.sum(train_df['RESPONSE'] == 1))\n",
    "train_df_init = default_clean(train_df, drop_threshold=80)\n",
    "test_df_init = default_clean(test_df, drop_threshold=80, testing=True)\n",
    "np.sum(train_df_init['RESPONSE'] == 1)"
   ]
  },
  {
   "cell_type": "code",
   "execution_count": 6,
   "metadata": {},
   "outputs": [
    {
     "data": {
      "text/plain": [
       "377"
      ]
     },
     "execution_count": 6,
     "metadata": {},
     "output_type": "execute_result"
    }
   ],
   "source": [
    "numeric_cols = [cname for cname in train_df_init.columns if \n",
    "                  train_df_init[cname].dtype in ['int64', 'float64', 'uint8']]\n",
    "\n",
    "len(numeric_cols)"
   ]
  },
  {
   "cell_type": "code",
   "execution_count": 7,
   "metadata": {},
   "outputs": [],
   "source": [
    "with open('experimentation/interactions.csv', 'a') as f:\n",
    "    f.write('feature,composition,mu0,mu1,se0,se1,sd,mu_diff,stds_between\\n')"
   ]
  },
  {
   "cell_type": "code",
   "execution_count": 10,
   "metadata": {},
   "outputs": [],
   "source": [
    "def compute_data(temp0, temp1, col, composition=1):\n",
    "\n",
    "    mu0 = temp0.mean()\n",
    "    std0 = temp0.std()\n",
    "    count0 = temp0.count()\n",
    "    se0 = std0 / np.sqrt(count0)\n",
    "    \n",
    "    mu1 = temp1.mean()\n",
    "    std1 = temp1.std()\n",
    "    count1 = temp1.count()\n",
    "    se1 = std1/np.sqrt(count1)\n",
    "    \n",
    "    mu_diff = abs(mu0 - mu1)\n",
    "    sd = np.sqrt(se0**2 + se1**2)\n",
    "    stds_between = mu_diff/sd\n",
    "    return '{},{},{},{},{},{},{},{},{}\\n'.format(col,composition,mu0,mu1,se0,se1,sd,mu_diff,stds_between)"
   ]
  },
  {
   "cell_type": "code",
   "execution_count": 11,
   "metadata": {},
   "outputs": [
    {
     "name": "stdout",
     "output_type": "stream",
     "text": [
      "(33646, 377)\n",
      "(532, 377)\n"
     ]
    }
   ],
   "source": [
    "def write_stats_one_dim():\n",
    "    numeric_cols = [cname for cname in train_df_init.columns if \n",
    "                  train_df_init[cname].dtype in ['int64', 'float64', 'uint8']]\n",
    "    df = train_df_init[numeric_cols].copy()\n",
    "    temp0 = df.loc[df['RESPONSE'] == 0]\n",
    "    temp1 = df.loc[df['RESPONSE'] == 1]\n",
    "    print(temp0.shape)\n",
    "    print(temp1.shape)\n",
    "    stats = []\n",
    "    seen = {}\n",
    "    for col in numeric_cols:\n",
    "        if col in seen or col == 'RESPONSE':\n",
    "            continue\n",
    "        seen[col] = True\n",
    "        data = compute_data(temp0[col], temp1[col], col, 1)\n",
    "        # data should be [feature,mu0,mu1,se0,se1,sd,mu_diff,stds_between]\n",
    "        with open('experimentation/interactions.csv', 'a') as f:\n",
    "            f.write(data)\n",
    "        \n",
    "write_stats_one_dim()   "
   ]
  },
  {
   "cell_type": "code",
   "execution_count": 13,
   "metadata": {},
   "outputs": [
    {
     "name": "stderr",
     "output_type": "stream",
     "text": [
      "/Users/richard.wuebker/.pyenv/versions/science/lib/python3.6/site-packages/ipykernel_launcher.py:15: RuntimeWarning: invalid value encountered in double_scalars\n",
      "  from ipykernel import kernelapp as app\n"
     ]
    }
   ],
   "source": [
    "def write_stats_two_dim():\n",
    "    numeric_cols = [cname for cname in train_df_init.columns if \n",
    "                  train_df_init[cname].dtype in ['int64', 'float64', 'uint8']]\n",
    "    df = train_df_init[numeric_cols].copy()\n",
    "    temp0 = df.loc[df['RESPONSE'] == 0]\n",
    "    temp1 = df.loc[df['RESPONSE'] == 1]\n",
    "    seen = {}\n",
    "            \n",
    "    for i in numeric_cols:\n",
    "        if i == 'RESPONSE':\n",
    "            continue\n",
    "        for j in numeric_cols:\n",
    "            if j == 'RESPONSE':\n",
    "                continue\n",
    "\n",
    "            if i == j:\n",
    "                continue\n",
    "                \n",
    "            sorted_list = sorted([i, j])\n",
    "            key = ':'.join(sorted_list)\n",
    "            if key in seen:\n",
    "                continue\n",
    "                \n",
    "            seen[key] = True\n",
    "    \n",
    "            series0 = temp0[i] * temp0[j]\n",
    "            series1 = temp1[i] * temp1[j]\n",
    "        \n",
    "            data = compute_data(series0, series1, key, 2)\n",
    "            # data should be [feature,mu0,mu1,se0,se1,mu_diff,stds_between]\n",
    "            with open('experimentation/interactions.csv', 'a') as f:\n",
    "                f.write(data)\n",
    "\n",
    "        \n",
    "write_stats_two_dim() "
   ]
  },
  {
   "cell_type": "code",
   "execution_count": null,
   "metadata": {},
   "outputs": [],
   "source": []
  }
 ],
 "metadata": {
  "kernelspec": {
   "display_name": "Python 3",
   "language": "python",
   "name": "python3"
  },
  "language_info": {
   "codemirror_mode": {
    "name": "ipython",
    "version": 3
   },
   "file_extension": ".py",
   "mimetype": "text/x-python",
   "name": "python",
   "nbconvert_exporter": "python",
   "pygments_lexer": "ipython3",
   "version": "3.6.8"
  }
 },
 "nbformat": 4,
 "nbformat_minor": 4
}
