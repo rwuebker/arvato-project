{
 "cells": [
  {
   "cell_type": "code",
   "execution_count": 1,
   "metadata": {},
   "outputs": [],
   "source": [
    "import boto3\n",
    "import pandas as pd\n",
    "from sagemaker import Session\n",
    "\n",
    "session = Session()\n",
    "bucket = session.default_bucket()\n",
    "\n",
    "customers_data_key = 'udacity-capstone/data/Udacity_CUSTOMERS_052018.csv'\n",
    "customers_data_location = 's3://{}/{}'.format(bucket, customers_data_key)\n",
    "\n",
    "customers_df = pd.read_csv(customers_data_location, sep=';')"
   ]
  },
  {
   "cell_type": "code",
   "execution_count": null,
   "metadata": {},
   "outputs": [],
   "source": [
    "germany_data_key = 'udacity-capstone/data/Udacity_AZDIAS_052018.csv'\n",
    "germany_data_location = 's3://{}/{}'.format(bucket, germany_data_key)\n",
    "germany_df = pd.read_csv(germany_data_location, sep=';')\n",
    "germany_df.shape"
   ]
  },
  {
   "cell_type": "code",
   "execution_count": 2,
   "metadata": {},
   "outputs": [
    {
     "data": {
      "text/plain": [
       "(191652, 369)"
      ]
     },
     "execution_count": 2,
     "metadata": {},
     "output_type": "execute_result"
    }
   ],
   "source": [
    "customers_df.shape"
   ]
  },
  {
   "cell_type": "code",
   "execution_count": 3,
   "metadata": {},
   "outputs": [
    {
     "data": {
      "text/html": [
       "<div>\n",
       "<style scoped>\n",
       "    .dataframe tbody tr th:only-of-type {\n",
       "        vertical-align: middle;\n",
       "    }\n",
       "\n",
       "    .dataframe tbody tr th {\n",
       "        vertical-align: top;\n",
       "    }\n",
       "\n",
       "    .dataframe thead th {\n",
       "        text-align: right;\n",
       "    }\n",
       "</style>\n",
       "<table border=\"1\" class=\"dataframe\">\n",
       "  <thead>\n",
       "    <tr style=\"text-align: right;\">\n",
       "      <th></th>\n",
       "      <th>LNR</th>\n",
       "      <th>AGER_TYP</th>\n",
       "      <th>AKT_DAT_KL</th>\n",
       "      <th>ALTER_HH</th>\n",
       "      <th>ALTER_KIND1</th>\n",
       "      <th>ALTER_KIND2</th>\n",
       "      <th>ALTER_KIND3</th>\n",
       "      <th>ALTER_KIND4</th>\n",
       "      <th>ALTERSKATEGORIE_FEIN</th>\n",
       "      <th>ANZ_HAUSHALTE_AKTIV</th>\n",
       "      <th>...</th>\n",
       "      <th>VK_DHT4A</th>\n",
       "      <th>VK_DISTANZ</th>\n",
       "      <th>VK_ZG11</th>\n",
       "      <th>W_KEIT_KIND_HH</th>\n",
       "      <th>WOHNDAUER_2008</th>\n",
       "      <th>WOHNLAGE</th>\n",
       "      <th>ZABEOTYP</th>\n",
       "      <th>ONLINE_PURCHASE</th>\n",
       "      <th>ANREDE_KZ</th>\n",
       "      <th>ALTERSKATEGORIE_GROB</th>\n",
       "    </tr>\n",
       "  </thead>\n",
       "  <tbody>\n",
       "    <tr>\n",
       "      <th>count</th>\n",
       "      <td>191652.000000</td>\n",
       "      <td>191652.000000</td>\n",
       "      <td>145056.000000</td>\n",
       "      <td>145056.000000</td>\n",
       "      <td>11766.000000</td>\n",
       "      <td>5100.000000</td>\n",
       "      <td>1275.000000</td>\n",
       "      <td>236.000000</td>\n",
       "      <td>139810.000000</td>\n",
       "      <td>141725.000000</td>\n",
       "      <td>...</td>\n",
       "      <td>143781.000000</td>\n",
       "      <td>143781.000000</td>\n",
       "      <td>143781.000000</td>\n",
       "      <td>137910.000000</td>\n",
       "      <td>145056.000000</td>\n",
       "      <td>141725.000000</td>\n",
       "      <td>191652.000000</td>\n",
       "      <td>191652.000000</td>\n",
       "      <td>191652.000000</td>\n",
       "      <td>191652.000000</td>\n",
       "    </tr>\n",
       "    <tr>\n",
       "      <th>mean</th>\n",
       "      <td>95826.500000</td>\n",
       "      <td>0.344359</td>\n",
       "      <td>1.747525</td>\n",
       "      <td>11.352009</td>\n",
       "      <td>12.337243</td>\n",
       "      <td>13.672353</td>\n",
       "      <td>14.647059</td>\n",
       "      <td>15.377119</td>\n",
       "      <td>10.331579</td>\n",
       "      <td>4.965863</td>\n",
       "      <td>...</td>\n",
       "      <td>4.374417</td>\n",
       "      <td>4.564769</td>\n",
       "      <td>3.168868</td>\n",
       "      <td>4.152716</td>\n",
       "      <td>8.646371</td>\n",
       "      <td>3.723133</td>\n",
       "      <td>2.576806</td>\n",
       "      <td>0.090247</td>\n",
       "      <td>1.376432</td>\n",
       "      <td>3.060907</td>\n",
       "    </tr>\n",
       "    <tr>\n",
       "      <th>std</th>\n",
       "      <td>55325.311233</td>\n",
       "      <td>1.391672</td>\n",
       "      <td>1.966334</td>\n",
       "      <td>6.275026</td>\n",
       "      <td>4.006050</td>\n",
       "      <td>3.243335</td>\n",
       "      <td>2.753787</td>\n",
       "      <td>2.307653</td>\n",
       "      <td>4.134828</td>\n",
       "      <td>14.309694</td>\n",
       "      <td>...</td>\n",
       "      <td>2.924355</td>\n",
       "      <td>2.887035</td>\n",
       "      <td>2.233516</td>\n",
       "      <td>1.974375</td>\n",
       "      <td>1.154001</td>\n",
       "      <td>2.095540</td>\n",
       "      <td>1.168486</td>\n",
       "      <td>0.286536</td>\n",
       "      <td>0.484492</td>\n",
       "      <td>1.086254</td>\n",
       "    </tr>\n",
       "    <tr>\n",
       "      <th>min</th>\n",
       "      <td>1.000000</td>\n",
       "      <td>-1.000000</td>\n",
       "      <td>1.000000</td>\n",
       "      <td>0.000000</td>\n",
       "      <td>2.000000</td>\n",
       "      <td>2.000000</td>\n",
       "      <td>5.000000</td>\n",
       "      <td>8.000000</td>\n",
       "      <td>0.000000</td>\n",
       "      <td>0.000000</td>\n",
       "      <td>...</td>\n",
       "      <td>1.000000</td>\n",
       "      <td>1.000000</td>\n",
       "      <td>1.000000</td>\n",
       "      <td>0.000000</td>\n",
       "      <td>1.000000</td>\n",
       "      <td>0.000000</td>\n",
       "      <td>1.000000</td>\n",
       "      <td>0.000000</td>\n",
       "      <td>1.000000</td>\n",
       "      <td>1.000000</td>\n",
       "    </tr>\n",
       "    <tr>\n",
       "      <th>25%</th>\n",
       "      <td>47913.750000</td>\n",
       "      <td>-1.000000</td>\n",
       "      <td>1.000000</td>\n",
       "      <td>8.000000</td>\n",
       "      <td>9.000000</td>\n",
       "      <td>11.000000</td>\n",
       "      <td>13.000000</td>\n",
       "      <td>14.000000</td>\n",
       "      <td>9.000000</td>\n",
       "      <td>1.000000</td>\n",
       "      <td>...</td>\n",
       "      <td>2.000000</td>\n",
       "      <td>2.000000</td>\n",
       "      <td>1.000000</td>\n",
       "      <td>2.000000</td>\n",
       "      <td>9.000000</td>\n",
       "      <td>2.000000</td>\n",
       "      <td>1.000000</td>\n",
       "      <td>0.000000</td>\n",
       "      <td>1.000000</td>\n",
       "      <td>3.000000</td>\n",
       "    </tr>\n",
       "    <tr>\n",
       "      <th>50%</th>\n",
       "      <td>95826.500000</td>\n",
       "      <td>0.000000</td>\n",
       "      <td>1.000000</td>\n",
       "      <td>11.000000</td>\n",
       "      <td>13.000000</td>\n",
       "      <td>14.000000</td>\n",
       "      <td>15.000000</td>\n",
       "      <td>16.000000</td>\n",
       "      <td>10.000000</td>\n",
       "      <td>1.000000</td>\n",
       "      <td>...</td>\n",
       "      <td>4.000000</td>\n",
       "      <td>4.000000</td>\n",
       "      <td>3.000000</td>\n",
       "      <td>5.000000</td>\n",
       "      <td>9.000000</td>\n",
       "      <td>3.000000</td>\n",
       "      <td>3.000000</td>\n",
       "      <td>0.000000</td>\n",
       "      <td>1.000000</td>\n",
       "      <td>3.000000</td>\n",
       "    </tr>\n",
       "    <tr>\n",
       "      <th>75%</th>\n",
       "      <td>143739.250000</td>\n",
       "      <td>2.000000</td>\n",
       "      <td>1.000000</td>\n",
       "      <td>16.000000</td>\n",
       "      <td>16.000000</td>\n",
       "      <td>16.000000</td>\n",
       "      <td>17.000000</td>\n",
       "      <td>17.000000</td>\n",
       "      <td>13.000000</td>\n",
       "      <td>4.000000</td>\n",
       "      <td>...</td>\n",
       "      <td>7.000000</td>\n",
       "      <td>7.000000</td>\n",
       "      <td>4.000000</td>\n",
       "      <td>6.000000</td>\n",
       "      <td>9.000000</td>\n",
       "      <td>5.000000</td>\n",
       "      <td>3.000000</td>\n",
       "      <td>0.000000</td>\n",
       "      <td>2.000000</td>\n",
       "      <td>4.000000</td>\n",
       "    </tr>\n",
       "    <tr>\n",
       "      <th>max</th>\n",
       "      <td>191652.000000</td>\n",
       "      <td>3.000000</td>\n",
       "      <td>9.000000</td>\n",
       "      <td>21.000000</td>\n",
       "      <td>18.000000</td>\n",
       "      <td>18.000000</td>\n",
       "      <td>18.000000</td>\n",
       "      <td>18.000000</td>\n",
       "      <td>25.000000</td>\n",
       "      <td>523.000000</td>\n",
       "      <td>...</td>\n",
       "      <td>11.000000</td>\n",
       "      <td>13.000000</td>\n",
       "      <td>11.000000</td>\n",
       "      <td>6.000000</td>\n",
       "      <td>9.000000</td>\n",
       "      <td>8.000000</td>\n",
       "      <td>6.000000</td>\n",
       "      <td>1.000000</td>\n",
       "      <td>2.000000</td>\n",
       "      <td>9.000000</td>\n",
       "    </tr>\n",
       "  </tbody>\n",
       "</table>\n",
       "<p>8 rows × 361 columns</p>\n",
       "</div>"
      ],
      "text/plain": [
       "                 LNR       AGER_TYP     AKT_DAT_KL       ALTER_HH  \\\n",
       "count  191652.000000  191652.000000  145056.000000  145056.000000   \n",
       "mean    95826.500000       0.344359       1.747525      11.352009   \n",
       "std     55325.311233       1.391672       1.966334       6.275026   \n",
       "min         1.000000      -1.000000       1.000000       0.000000   \n",
       "25%     47913.750000      -1.000000       1.000000       8.000000   \n",
       "50%     95826.500000       0.000000       1.000000      11.000000   \n",
       "75%    143739.250000       2.000000       1.000000      16.000000   \n",
       "max    191652.000000       3.000000       9.000000      21.000000   \n",
       "\n",
       "        ALTER_KIND1  ALTER_KIND2  ALTER_KIND3  ALTER_KIND4  \\\n",
       "count  11766.000000  5100.000000  1275.000000   236.000000   \n",
       "mean      12.337243    13.672353    14.647059    15.377119   \n",
       "std        4.006050     3.243335     2.753787     2.307653   \n",
       "min        2.000000     2.000000     5.000000     8.000000   \n",
       "25%        9.000000    11.000000    13.000000    14.000000   \n",
       "50%       13.000000    14.000000    15.000000    16.000000   \n",
       "75%       16.000000    16.000000    17.000000    17.000000   \n",
       "max       18.000000    18.000000    18.000000    18.000000   \n",
       "\n",
       "       ALTERSKATEGORIE_FEIN  ANZ_HAUSHALTE_AKTIV  ...       VK_DHT4A  \\\n",
       "count         139810.000000        141725.000000  ...  143781.000000   \n",
       "mean              10.331579             4.965863  ...       4.374417   \n",
       "std                4.134828            14.309694  ...       2.924355   \n",
       "min                0.000000             0.000000  ...       1.000000   \n",
       "25%                9.000000             1.000000  ...       2.000000   \n",
       "50%               10.000000             1.000000  ...       4.000000   \n",
       "75%               13.000000             4.000000  ...       7.000000   \n",
       "max               25.000000           523.000000  ...      11.000000   \n",
       "\n",
       "          VK_DISTANZ        VK_ZG11  W_KEIT_KIND_HH  WOHNDAUER_2008  \\\n",
       "count  143781.000000  143781.000000   137910.000000   145056.000000   \n",
       "mean        4.564769       3.168868        4.152716        8.646371   \n",
       "std         2.887035       2.233516        1.974375        1.154001   \n",
       "min         1.000000       1.000000        0.000000        1.000000   \n",
       "25%         2.000000       1.000000        2.000000        9.000000   \n",
       "50%         4.000000       3.000000        5.000000        9.000000   \n",
       "75%         7.000000       4.000000        6.000000        9.000000   \n",
       "max        13.000000      11.000000        6.000000        9.000000   \n",
       "\n",
       "            WOHNLAGE       ZABEOTYP  ONLINE_PURCHASE      ANREDE_KZ  \\\n",
       "count  141725.000000  191652.000000    191652.000000  191652.000000   \n",
       "mean        3.723133       2.576806         0.090247       1.376432   \n",
       "std         2.095540       1.168486         0.286536       0.484492   \n",
       "min         0.000000       1.000000         0.000000       1.000000   \n",
       "25%         2.000000       1.000000         0.000000       1.000000   \n",
       "50%         3.000000       3.000000         0.000000       1.000000   \n",
       "75%         5.000000       3.000000         0.000000       2.000000   \n",
       "max         8.000000       6.000000         1.000000       2.000000   \n",
       "\n",
       "       ALTERSKATEGORIE_GROB  \n",
       "count         191652.000000  \n",
       "mean               3.060907  \n",
       "std                1.086254  \n",
       "min                1.000000  \n",
       "25%                3.000000  \n",
       "50%                3.000000  \n",
       "75%                4.000000  \n",
       "max                9.000000  \n",
       "\n",
       "[8 rows x 361 columns]"
      ]
     },
     "execution_count": 3,
     "metadata": {},
     "output_type": "execute_result"
    }
   ],
   "source": [
    "customers_df.describe()"
   ]
  },
  {
   "cell_type": "code",
   "execution_count": null,
   "metadata": {},
   "outputs": [],
   "source": []
  },
  {
   "cell_type": "code",
   "execution_count": 4,
   "metadata": {},
   "outputs": [],
   "source": [
    "import numpy as np\n",
    "from sklearn.preprocessing import MinMaxScaler\n",
    "from sklearn.decomposition import PCA as sklearn_pca\n",
    "from sagemaker import get_execution_role\n",
    "from sagemaker import PCA"
   ]
  },
  {
   "cell_type": "code",
   "execution_count": 5,
   "metadata": {},
   "outputs": [
    {
     "data": {
      "text/plain": [
       "ALTER_KIND4         236.0\n",
       "ALTER_KIND3        1275.0\n",
       "ALTER_KIND2        5100.0\n",
       "ALTER_KIND1       11766.0\n",
       "KK_KUNDENTYP      79715.0\n",
       "EXTSEL992        106369.0\n",
       "KBA05_KRSOBER    135672.0\n",
       "KBA05_GBZ        135672.0\n",
       "KBA05_HERST1     135672.0\n",
       "KBA05_HERST2     135672.0\n",
       "Name: count, dtype: float64"
      ]
     },
     "execution_count": 5,
     "metadata": {},
     "output_type": "execute_result"
    }
   ],
   "source": [
    "des = customers_df.describe()\n",
    "count_series = des.loc['count',:].sort_values()\n",
    "count_series.head(10)"
   ]
  },
  {
   "cell_type": "code",
   "execution_count": 6,
   "metadata": {},
   "outputs": [],
   "source": [
    "cols_to_zero = ['ALTER_KIND1', 'ALTER_KIND2', 'ALTER_KIND3', 'ALTER_KIND4']\n",
    "customers_df[cols_to_zero] = customers_df[cols_to_zero].fillna(0)"
   ]
  },
  {
   "cell_type": "code",
   "execution_count": 7,
   "metadata": {},
   "outputs": [
    {
     "data": {
      "text/plain": [
       "Index(['CAMEO_DEU_2015', 'CAMEO_DEUG_2015', 'CAMEO_INTL_2015',\n",
       "       'D19_LETZTER_KAUF_BRANCHE', 'EINGEFUEGT_AM', 'OST_WEST_KZ',\n",
       "       'PRODUCT_GROUP', 'CUSTOMER_GROUP'],\n",
       "      dtype='object')"
      ]
     },
     "execution_count": 7,
     "metadata": {},
     "output_type": "execute_result"
    }
   ],
   "source": [
    "string_df = customers_df.select_dtypes(exclude=[np.number])\n",
    "string_df.columns"
   ]
  },
  {
   "cell_type": "code",
   "execution_count": 8,
   "metadata": {},
   "outputs": [
    {
     "data": {
      "text/plain": [
       "array([1.0, nan, 5.0, 4.0, 7.0, 3.0, 9.0, 2.0, 6.0, 8.0, '6', '3', '8',\n",
       "       '9', '2', '4', '1', '7', '5', 'X'], dtype=object)"
      ]
     },
     "execution_count": 8,
     "metadata": {},
     "output_type": "execute_result"
    }
   ],
   "source": [
    "customers_df['CAMEO_DEUG_2015'].unique()"
   ]
  },
  {
   "cell_type": "code",
   "execution_count": 9,
   "metadata": {},
   "outputs": [
    {
     "data": {
      "text/plain": [
       "2      17574\n",
       "4      16458\n",
       "6      14008\n",
       "3      13585\n",
       "1      12498\n",
       "8       9716\n",
       "5       8624\n",
       "7       7878\n",
       "2.0     5910\n",
       "4.0     5606\n",
       "3.0     4805\n",
       "9       4731\n",
       "6.0     4709\n",
       "1.0     4280\n",
       "8.0     3333\n",
       "5.0     3042\n",
       "7.0     2680\n",
       "9.0     1661\n",
       "X        126\n",
       "Name: CAMEO_DEUG_2015, dtype: int64"
      ]
     },
     "execution_count": 9,
     "metadata": {},
     "output_type": "execute_result"
    }
   ],
   "source": [
    "customers_df['CAMEO_DEUG_2015'].value_counts()"
   ]
  },
  {
   "cell_type": "code",
   "execution_count": 10,
   "metadata": {},
   "outputs": [],
   "source": [
    "customers_df = customers_df[customers_df.CAMEO_DEUG_2015 != 'X']"
   ]
  },
  {
   "cell_type": "code",
   "execution_count": 11,
   "metadata": {},
   "outputs": [
    {
     "data": {
      "text/plain": [
       "array([13.0, nan, 34.0, 24.0, 41.0, 23.0, 15.0, 55.0, 14.0, 22.0, 43.0,\n",
       "       51.0, 33.0, 25.0, 44.0, 54.0, 32.0, 12.0, 35.0, 31.0, 45.0, 52.0,\n",
       "       '45', '25', '55', '51', '14', '54', '43', '22', '15', '24', '35',\n",
       "       '23', '12', '44', '41', '52', '31', '13', '34', '32', '33'],\n",
       "      dtype=object)"
      ]
     },
     "execution_count": 11,
     "metadata": {},
     "output_type": "execute_result"
    }
   ],
   "source": [
    "customers_df['CAMEO_INTL_2015'].unique()"
   ]
  },
  {
   "cell_type": "code",
   "execution_count": 12,
   "metadata": {},
   "outputs": [
    {
     "data": {
      "text/plain": [
       "Index(['CAMEO_DEU_2015', 'CAMEO_DEUG_2015', 'CAMEO_INTL_2015',\n",
       "       'D19_LETZTER_KAUF_BRANCHE', 'EINGEFUEGT_AM', 'OST_WEST_KZ',\n",
       "       'PRODUCT_GROUP', 'CUSTOMER_GROUP'],\n",
       "      dtype='object')"
      ]
     },
     "execution_count": 12,
     "metadata": {},
     "output_type": "execute_result"
    }
   ],
   "source": [
    "string_df = customers_df.select_dtypes(exclude=[np.number])\n",
    "string_df.columns"
   ]
  },
  {
   "cell_type": "code",
   "execution_count": 13,
   "metadata": {},
   "outputs": [
    {
     "data": {
      "text/plain": [
       "(191526, 363)"
      ]
     },
     "execution_count": 13,
     "metadata": {},
     "output_type": "execute_result"
    }
   ],
   "source": [
    "cols_to_drop = ['CAMEO_DEU_2015','D19_LETZTER_KAUF_BRANCHE', 'EINGEFUEGT_AM', 'OST_WEST_KZ','PRODUCT_GROUP', \n",
    "                'CUSTOMER_GROUP']\n",
    "customers_df = customers_df.drop(cols_to_drop, axis=1)\n",
    "customers_df.shape"
   ]
  },
  {
   "cell_type": "code",
   "execution_count": 14,
   "metadata": {},
   "outputs": [
    {
     "data": {
      "text/plain": [
       "(54251, 363)"
      ]
     },
     "execution_count": 14,
     "metadata": {},
     "output_type": "execute_result"
    }
   ],
   "source": [
    "customers_df = customers_df.dropna()\n",
    "customers_df.shape"
   ]
  },
  {
   "cell_type": "code",
   "execution_count": 15,
   "metadata": {},
   "outputs": [
    {
     "data": {
      "text/plain": [
       "(54251, 363)"
      ]
     },
     "execution_count": 15,
     "metadata": {},
     "output_type": "execute_result"
    }
   ],
   "source": [
    "scaler = MinMaxScaler()\n",
    "scaled_df = pd.DataFrame(scaler.fit_transform(customers_df.astype(float)))\n",
    "scaled_df.shape"
   ]
  },
  {
   "cell_type": "code",
   "execution_count": 39,
   "metadata": {},
   "outputs": [
    {
     "name": "stdout",
     "output_type": "stream",
     "text": [
      "0.4242638623706379\n",
      "(363, 20)\n"
     ]
    }
   ],
   "source": [
    "NUM_COMPONENTS = 20\n",
    "pca = sklearn_pca(n_components=NUM_COMPONENTS)\n",
    "pca.fit(scaled_df)\n",
    "print(np.sum(pca.explained_variance_ratio_))\n",
    "v_sklearn = -1*np.flip(pca.components_.T, axis=1)\n",
    "print(v_sklearn.shape)\n",
    "v_sklearn_df = pd.DataFrame(v_sklearn)\n"
   ]
  },
  {
   "cell_type": "code",
   "execution_count": null,
   "metadata": {},
   "outputs": [],
   "source": []
  },
  {
   "cell_type": "code",
   "execution_count": null,
   "metadata": {},
   "outputs": [],
   "source": []
  },
  {
   "cell_type": "code",
   "execution_count": null,
   "metadata": {},
   "outputs": [],
   "source": []
  },
  {
   "cell_type": "code",
   "execution_count": null,
   "metadata": {},
   "outputs": [],
   "source": []
  },
  {
   "cell_type": "code",
   "execution_count": null,
   "metadata": {},
   "outputs": [],
   "source": []
  },
  {
   "cell_type": "code",
   "execution_count": null,
   "metadata": {},
   "outputs": [],
   "source": []
  },
  {
   "cell_type": "code",
   "execution_count": null,
   "metadata": {},
   "outputs": [],
   "source": []
  },
  {
   "cell_type": "code",
   "execution_count": null,
   "metadata": {},
   "outputs": [],
   "source": []
  },
  {
   "cell_type": "code",
   "execution_count": null,
   "metadata": {},
   "outputs": [],
   "source": [
    "os.system('pip install mxnet')"
   ]
  },
  {
   "cell_type": "code",
   "execution_count": 27,
   "metadata": {},
   "outputs": [
    {
     "data": {
      "text/plain": [
       "{'s': \n",
       " [ 15.7960005  15.8863945  16.101652   16.270885   16.342955   16.536232\n",
       "   16.564827   16.645939   16.758272   16.90528    16.95308    17.036749\n",
       "   17.149862   17.18792    17.306973   17.454706   17.51808    17.55705\n",
       "   17.691868   17.71852    17.854877   18.088581   18.370773   18.645721\n",
       "   18.765373   18.842127   18.932903   19.013872   19.10982    19.174225\n",
       "   19.236465   19.512094   19.606735   19.7596     19.796417   19.912495\n",
       "   20.009897   20.112577   20.17225    20.291168   20.559002   21.08198\n",
       "   21.135729   21.308935   21.514282   21.803993   21.98405    22.06909\n",
       "   22.303505   22.40907    22.526188   22.678274   22.760735   23.01017\n",
       "   23.1324     23.360695   23.490795   23.60345    23.74429    23.94473\n",
       "   24.0664     24.11213    24.305952   24.466272   24.722345   24.841356\n",
       "   25.080648   25.155298   25.270132   25.417679   25.711374   25.937727\n",
       "   26.145014   26.253607   26.285095   26.513292   26.64795    26.75313\n",
       "   26.932314   27.027277   27.218704   27.291477   27.437109   27.502043\n",
       "   27.560392   27.959986   28.247805   28.468687   28.770569   28.829292\n",
       "   28.936293   29.067898   29.238968   29.370502   29.592861   30.242777\n",
       "   30.497763   30.779663   30.9931     31.147415   31.508387   31.786823\n",
       "   31.86784    32.004673   32.213074   32.3378     32.534477   32.782417\n",
       "   32.991333   33.04212    33.23484    33.43451    33.61044    33.64613\n",
       "   33.890537   33.92721    34.163834   34.210052   34.489086   34.66826\n",
       "   34.722225   34.76049    34.95413    35.547905   35.822693   35.952896\n",
       "   36.142677   36.408604   36.523926   36.957035   37.32704    37.53691\n",
       "   37.64314    38.116806   38.218422   38.5657     38.75257    38.96592\n",
       "   39.233025   39.385963   39.50562    39.805244   39.905113   40.138542\n",
       "   40.432697   40.74972    40.969494   41.24028    41.335255   41.87366\n",
       "   42.39126    42.762424   42.853104   43.207096   43.62407    43.868435\n",
       "   44.289528   44.51424    44.81906    44.992016   45.702564   45.755264\n",
       "   46.066593   46.333485   46.56521    46.905567   47.269363   47.51161\n",
       "   47.68068    47.831623   48.189102   48.40378    48.610737   48.843845\n",
       "   49.123077   49.446827   49.598877   49.80915    50.007507   50.2009\n",
       "   51.019417   51.260807   51.54284    51.98744    52.0603     52.484455\n",
       "   52.804115   53.21991    53.45798    53.500828   53.832333   54.176434\n",
       "   54.691593   55.006096   55.24978    55.632484   55.914215   56.410526\n",
       "   56.931026   58.120907   58.157345   58.53538    59.039753   59.293125\n",
       "   59.692112   59.995724   60.41957    60.723248   60.77745    61.027485\n",
       "   61.25936    61.810066   62.738083   62.96858    63.164223   63.40075\n",
       "   63.508038   64.012314   64.36583    65.0314     65.218315   65.56036\n",
       "   66.08459    66.20729    66.31738    66.759705   67.25369    67.42208\n",
       "   67.66583    68.09288    68.47309    68.712166   69.073425   69.37398\n",
       "   69.73081    69.92457    70.64154    70.91492    71.088585   71.811195\n",
       "   72.25149    72.75337    72.9914     73.59759    74.46532    75.02373\n",
       "   75.72342    76.17379    76.611885   76.78725    77.20478    77.78199\n",
       "   78.59517    78.96399    79.39771    79.55147    80.63197    81.4511\n",
       "   82.00888    82.42093    82.93091    83.290215   83.79554    84.75445\n",
       "   85.641365   86.4364     88.68329    89.57888    89.87714    90.60975\n",
       "   91.547554   92.04801    94.20737    94.430916   95.47766    96.39425\n",
       "   97.829765   98.86783    99.52603   101.384514  102.61031   103.573204\n",
       "  105.86529   109.34133   110.24749   112.464325  118.30437   120.60494\n",
       "  124.65752   126.61776   133.14401   142.63141   156.6927    158.21617\n",
       "  168.2413    174.02058   191.27623   234.28482   254.498     297.94293  ]\n",
       " <NDArray 300 @cpu(0)>,\n",
       " 'v': \n",
       " [[-0.00053411 -0.00033476 -0.00168064 ... -0.00179554  0.0013967\n",
       "    0.00139645]\n",
       "  [ 0.01823057 -0.01148124  0.02481565 ...  0.07758494  0.01397513\n",
       "   -0.05518182]\n",
       "  [-0.00412259  0.02530513  0.04472625 ... -0.01130194 -0.00696403\n",
       "   -0.00626869]\n",
       "  ...\n",
       "  [ 0.00070643 -0.00389883 -0.00296587 ... -0.05380058  0.00072272\n",
       "    0.01529865]\n",
       "  [ 0.00438299  0.02042042 -0.01040918 ... -0.0745133  -0.11358446\n",
       "   -0.03799602]\n",
       "  [-0.00648687  0.01621171  0.001369   ...  0.02508656  0.00358523\n",
       "   -0.00428595]]\n",
       " <NDArray 363x300 @cpu(0)>,\n",
       " 'mean': \n",
       " [[0.50036323 0.48616156 0.04758438 0.6172402  0.0665231  0.03131228\n",
       "   0.00899932 0.00214845 0.43127614 0.00671022 0.00258613 0.02005493\n",
       "   0.09121397 0.00874454 0.00534184 0.21979088 0.5620111  0.3738756\n",
       "   0.35665154 0.44845632 0.55463034 0.23595878 0.19092736 0.85915464\n",
       "   0.81004035 0.85158336 0.85541743 0.03792249 0.06012793 0.84649956\n",
       "   0.17374799 0.13445835 0.03159916 0.9584279  0.90590864 0.08110818\n",
       "   0.12045066 0.26118544 0.39425474 0.26436642 0.13787767 0.55210567\n",
       "   0.06237938 0.21371831 0.12180682 0.19476932 0.0970094  0.3859038\n",
       "   0.5238614  0.23224148 0.63287514 0.40816864 0.6137436  0.3894701\n",
       "   0.3895016  0.29257128 0.13506202 0.15628938 0.4401736  0.15999965\n",
       "   0.4722652  0.13655049 0.2231927  0.4325608  0.3614101  0.16316488\n",
       "   0.65608776 0.25935373 0.56515366 0.01930533 0.03229127 0.8823677\n",
       "   0.2387237  0.9474419  0.99529755 0.00227277 0.16871582 0.06249788\n",
       "   0.31975454 0.4482159  0.35337606 0.6902853  0.46204373 0.5602976\n",
       "   0.21944292 0.04124655 0.06426916 0.81496483 0.9752344  0.99614954\n",
       "   0.00296584 0.28242528 0.5449933  0.20759591 0.99362224 0.37152886\n",
       "   0.54860926 0.717248   0.14527842 0.38837072 0.86419606 0.09219185\n",
       "   0.1930241  0.90418607 0.6658015  0.6632643  0.19328937 0.72365487\n",
       "   0.73234236 0.37947625 0.52611005 0.5924683  0.7386177  0.1422831\n",
       "   0.38914314 0.5586888  0.17098098 0.21775866 0.27848104 0.3638192\n",
       "   0.13575584 0.607998   0.29717886 0.07376823 0.04839542 0.33995688\n",
       "   0.18578824 0.22029547 0.23451181 0.2867689  0.17353085 0.25017253\n",
       "   0.25665426 0.6989226  0.31148013 0.27202263 0.31010178 0.30613053\n",
       "   0.28772435 0.18168789 0.3176255  0.2707047  0.26451585 0.23670301\n",
       "   0.12193093 0.13746752 0.13084552 0.13458738 0.21262512 0.26254356\n",
       "   0.2049404  0.35033455 0.20047557 0.18582377 0.15775055 0.10648421\n",
       "   0.18903698 0.25299534 0.25495383 0.30469894 0.16255921 0.35499802\n",
       "   0.22869855 0.14207625 0.12609291 0.24412455 0.23573068 0.2290073\n",
       "   0.25279257 0.19984473 0.0229919  0.11211468 0.11109269 0.13828929\n",
       "   0.2863219  0.2516843  0.24936354 0.21451679 0.25981086 0.33135077\n",
       "   0.27288386 0.39603418 0.48890805 0.50200456 0.5663536  0.6268686\n",
       "   0.67477095 0.4349105  0.22572856 0.29252937 0.5608652  0.5198107\n",
       "   0.12278575 0.44260934 0.42071575 0.5078893  0.53486574 0.54575205\n",
       "   0.5446979  0.61812687 0.41587064 0.44416878 0.42384472 0.46313432\n",
       "   0.4892306  0.3954305  0.48455328 0.47266224 0.56359327 0.5445282\n",
       "   0.5622644  0.5683397  0.47323552 0.43562332 0.44475216 0.55879617\n",
       "   0.46298686 0.6843422  0.45245248 0.40230596 0.42070654 0.4601344\n",
       "   0.49581113 0.52490276 0.49279737 0.514138   0.5123408  0.5871735\n",
       "   0.5540174  0.4357385  0.51847434 0.6248502  0.5082072  0.45440176\n",
       "   0.44475216 0.6431771  0.42986858 0.14011723 0.40517688 0.41820428\n",
       "   0.4258447  0.54037714 0.5524397  0.55165064 0.17579399 0.5130551\n",
       "   0.52490276 0.5717683  0.45418978 0.48566848 0.68119794 0.665364\n",
       "   0.6707649  0.4320934  0.52874607 0.5038505  0.55945146 0.17604284\n",
       "   0.43116993 0.427498   0.42774144 0.52833587 0.45132077 0.45446905\n",
       "   0.48737174 0.48374224 0.6046248  0.5895745  0.44661388 0.46613887\n",
       "   0.53263074 0.46483013 0.55189764 0.58722883 0.44975668 0.437015\n",
       "   0.4297202  0.52717    0.5251378  0.48964995 0.5865376  0.5466885\n",
       "   0.484968   0.59418637 0.5238429  0.563197   0.53372294 0.61358315\n",
       "   0.37448618 0.5925651  0.51063573 0.59964794 0.5132532  0.46271035\n",
       "   0.4608118  0.39493108 0.50354373 0.47453135 0.5670356  0.3418716\n",
       "   0.3772589  0.14781295 0.59359086 0.6647573  0.7041395  0.7080195\n",
       "   0.7536329  0.70328194 0.377746   0.42106506 0.57074344 0.34022716\n",
       "   0.73911273 0.49090108 0.6608634  0.66684484 0.4311749  0.23599565\n",
       "   0.10708097 0.6744346  0.6536239  0.38565797 0.5227369  0.22540598\n",
       "   0.68738365 0.23868224 0.8147177  0.5175019  0.49343783 0.6299977\n",
       "   0.48665765 0.40818596 0.43815476 0.5108723  0.7634024  0.4101215\n",
       "   0.33219665 0.31025857 0.37384564 0.57576805 0.32530275 0.721612\n",
       "   0.64915854 0.00940075 0.76362646 0.00496949 0.5143546  0.8424038\n",
       "   0.08807211 0.10719555 0.8245992  0.25563025 0.59116423 0.17929831\n",
       "   0.1440096  0.09260289 0.64392966 0.9786179  0.39940014 0.21119612\n",
       "   0.09262502 0.28980112 0.31310484]]\n",
       " <NDArray 1x363 @cpu(0)>}"
      ]
     },
     "execution_count": 27,
     "metadata": {},
     "output_type": "execute_result"
    }
   ],
   "source": []
  },
  {
   "cell_type": "code",
   "execution_count": 28,
   "metadata": {},
   "outputs": [],
   "source": []
  },
  {
   "cell_type": "code",
   "execution_count": 29,
   "metadata": {},
   "outputs": [
    {
     "data": {
      "text/html": [
       "<div>\n",
       "<style scoped>\n",
       "    .dataframe tbody tr th:only-of-type {\n",
       "        vertical-align: middle;\n",
       "    }\n",
       "\n",
       "    .dataframe tbody tr th {\n",
       "        vertical-align: top;\n",
       "    }\n",
       "\n",
       "    .dataframe thead th {\n",
       "        text-align: right;\n",
       "    }\n",
       "</style>\n",
       "<table border=\"1\" class=\"dataframe\">\n",
       "  <thead>\n",
       "    <tr style=\"text-align: right;\">\n",
       "      <th></th>\n",
       "      <th>0</th>\n",
       "    </tr>\n",
       "  </thead>\n",
       "  <tbody>\n",
       "    <tr>\n",
       "      <th>0</th>\n",
       "      <td>15.796000</td>\n",
       "    </tr>\n",
       "    <tr>\n",
       "      <th>1</th>\n",
       "      <td>15.886395</td>\n",
       "    </tr>\n",
       "    <tr>\n",
       "      <th>2</th>\n",
       "      <td>16.101652</td>\n",
       "    </tr>\n",
       "    <tr>\n",
       "      <th>3</th>\n",
       "      <td>16.270885</td>\n",
       "    </tr>\n",
       "    <tr>\n",
       "      <th>4</th>\n",
       "      <td>16.342955</td>\n",
       "    </tr>\n",
       "  </tbody>\n",
       "</table>\n",
       "</div>"
      ],
      "text/plain": [
       "           0\n",
       "0  15.796000\n",
       "1  15.886395\n",
       "2  16.101652\n",
       "3  16.270885\n",
       "4  16.342955"
      ]
     },
     "execution_count": 29,
     "metadata": {},
     "output_type": "execute_result"
    }
   ],
   "source": [
    "s.head()"
   ]
  },
  {
   "cell_type": "code",
   "execution_count": 30,
   "metadata": {},
   "outputs": [],
   "source": []
  },
  {
   "cell_type": "code",
   "execution_count": 31,
   "metadata": {},
   "outputs": [
    {
     "data": {
      "text/plain": [
       "0    0.902343\n",
       "dtype: float32"
      ]
     },
     "execution_count": 31,
     "metadata": {},
     "output_type": "execute_result"
    }
   ],
   "source": [
    "explained_variance(s, 150)"
   ]
  },
  {
   "cell_type": "code",
   "execution_count": 19,
   "metadata": {},
   "outputs": [
    {
     "data": {
      "text/plain": [
       "363"
      ]
     },
     "execution_count": 19,
     "metadata": {},
     "output_type": "execute_result"
    }
   ],
   "source": [
    "features_list = list(customers_df.columns)\n",
    "len(features_list)"
   ]
  },
  {
   "cell_type": "code",
   "execution_count": 40,
   "metadata": {},
   "outputs": [],
   "source": [
    "import seaborn as sns\n",
    "import matplotlib.pyplot as plt\n",
    "\n",
    "def display_component(v, features_list, component_num, n_weights=10):\n",
    "    col_idx = NUM_COMPONENTS-component_num\n",
    "    v_1_col = v.iloc[:, col_idx]\n",
    "    v_1 = np.squeeze(v_1_col.values)\n",
    "    weights = pd.DataFrame(list(zip(v_1, features_list)), columns=['weight', 'feature'])\n",
    "    weights['abs_weight'] = weights['weight'].apply(lambda x: np.abs(x))\n",
    "    sorted_weight_data = weights.sort_values('abs_weight', ascending=False).head(n_weights)\n",
    "    ax = plt.subplots(figsize=(10,6))\n",
    "    ax = sns.barplot(data=sorted_weight_data, x='weight', y='feature', palette='Blues_d')\n",
    "    ax.set_title(f'PCA Component Makeup for Component #{component_num}')\n",
    "    plt.show()"
   ]
  },
  {
   "cell_type": "code",
   "execution_count": 106,
   "metadata": {},
   "outputs": [
    {
     "data": {
      "image/png": "[encoded data removed]",
      "text/plain": [
       "<Figure size 720x432 with 1 Axes>"
      ]
     },
     "metadata": {
      "needs_background": "light"
     },
     "output_type": "display_data"
    }
   ],
   "source": [
    "num = 1\n",
    "display_component(v_sklearn_df, features_list, num, n_weights=30)"
   ]
  },
  {
   "cell_type": "code",
   "execution_count": null,
   "metadata": {},
   "outputs": [],
   "source": [
    "v.iloc[:,299]"
   ]
  },
  {
   "cell_type": "code",
   "execution_count": 52,
   "metadata": {},
   "outputs": [
    {
     "data": {
      "text/plain": [
       "(363, 20)"
      ]
     },
     "execution_count": 52,
     "metadata": {},
     "output_type": "execute_result"
    }
   ],
   "source": [
    "v_sklearn_df.shape"
   ]
  },
  {
   "cell_type": "code",
   "execution_count": 125,
   "metadata": {},
   "outputs": [],
   "source": [
    "def get_absolute_component_ranking(v, features_list, top_n):\n",
    "    cols = v.shape[1]\n",
    "    top_features = {}\n",
    "    abs_v = np.abs(v)\n",
    "    for col in range(cols):\n",
    "        for row in range(len(features_list)):\n",
    "            feature = features_list[row]\n",
    "            value = abs_v.iloc[row, col]\n",
    "            if feature in top_features:\n",
    "                if value > top_features[feature]:\n",
    "                    top_features[feature] = value\n",
    "            else:\n",
    "                top_features[feature] = value\n",
    "                \n",
    "\n",
    "    # now get the top three features per component to be included for sure\n",
    "    for col in range(cols):\n",
    "        col_v = abs_v.iloc[:,col].values.copy()\n",
    "        idx_list = col_v.argsort()[-3:][::-1]\n",
    "        first = features_list[idx_list[0]]\n",
    "        second = features_list[idx_list[1]]\n",
    "        third = features_list[idx_list[2]]\n",
    "        top_features[first] = np.inf\n",
    "        top_features[second] = np.inf\n",
    "        top_features[third] = np.inf\n",
    "    \n",
    "    sorted_f_list = [(k, v) for k, v in sorted(top_features.items(), reverse=True, key= lambda x: x[1])]\n",
    "    top_f_list = sorted_f_list[:top_n]\n",
    "        \n",
    "    return top_f_list\n",
    "        \n"
   ]
  },
  {
   "cell_type": "code",
   "execution_count": 126,
   "metadata": {},
   "outputs": [],
   "source": [
    "top_f = get_absolute_component_ranking(v_sklearn_df, features_list, 50)"
   ]
  },
  {
   "cell_type": "code",
   "execution_count": 130,
   "metadata": {},
   "outputs": [
    {
     "data": {
      "text/plain": [
       "'BALLRAUM'"
      ]
     },
     "execution_count": 130,
     "metadata": {},
     "output_type": "execute_result"
    }
   ],
   "source": [
    "top_f[0][0]"
   ]
  },
  {
   "cell_type": "code",
   "execution_count": 128,
   "metadata": {},
   "outputs": [
    {
     "data": {
      "text/plain": [
       "[]"
      ]
     },
     "execution_count": 128,
     "metadata": {},
     "output_type": "execute_result"
    }
   ],
   "source": [
    "top_f[100:]"
   ]
  },
  {
   "cell_type": "code",
   "execution_count": 112,
   "metadata": {},
   "outputs": [
    {
     "data": {
      "text/plain": [
       "'s3://sagemaker-us-west-2-745267682532/udacity-capstone/output/'"
      ]
     },
     "execution_count": 112,
     "metadata": {},
     "output_type": "execute_result"
    }
   ],
   "source": [
    "output_path = f's3://{bucket}/udacity-capstone/output/'\n",
    "role = get_execution_role()\n",
    "output_path"
   ]
  },
  {
   "cell_type": "code",
   "execution_count": null,
   "metadata": {},
   "outputs": [],
   "source": [
    "NUM_COMPONENTS = 300\n",
    "\n",
    "pca = PCA(role=role,\n",
    "          instance_count=1,\n",
    "          instance_type='ml.c4.xlarge',\n",
    "          output_path=output_path,\n",
    "          num_components=NUM_COMPONENTS,\n",
    "          sagemaker_session=session)"
   ]
  },
  {
   "cell_type": "code",
   "execution_count": null,
   "metadata": {},
   "outputs": [],
   "source": [
    "# need a record set for PCA\n",
    "scaled_data_np = scaled_df.values.astype('float32')\n",
    "formatted_train_data = pca.record_set(scaled_data_np)"
   ]
  },
  {
   "cell_type": "code",
   "execution_count": null,
   "metadata": {},
   "outputs": [],
   "source": [
    "pca.fit(formatted_train_data)"
   ]
  },
  {
   "cell_type": "code",
   "execution_count": null,
   "metadata": {},
   "outputs": [],
   "source": [
    "train_name = 'pca-2020-11-07-02-04-15-478'\n",
    "model_key = f'udacity-capstone/output/{train_name}/output/model.tar.gz'\n",
    "model_key"
   ]
  },
  {
   "cell_type": "code",
   "execution_count": null,
   "metadata": {},
   "outputs": [],
   "source": [
    "boto3.resource('s3').Bucket(bucket).download_file(model_key, 'model.tar.gz')"
   ]
  },
  {
   "cell_type": "code",
   "execution_count": null,
   "metadata": {},
   "outputs": [],
   "source": [
    "import os\n",
    "os.system('tar -zxvf model.tar.gz')"
   ]
  },
  {
   "cell_type": "code",
   "execution_count": null,
   "metadata": {},
   "outputs": [],
   "source": [
    "import mxnet as mx\n",
    "pca_model_params = mx.ndarray.load('model_algo-1')\n",
    "pca_model_params"
   ]
  },
  {
   "cell_type": "code",
   "execution_count": null,
   "metadata": {},
   "outputs": [],
   "source": [
    "s = pd.DataFrame(pca_model_params['s'].asnumpy())\n",
    "v = pd.DataFrame(pca_model_params['v'].asnumpy())"
   ]
  },
  {
   "cell_type": "code",
   "execution_count": null,
   "metadata": {},
   "outputs": [],
   "source": [
    "def explained_variance(s, n_top_components, num_components=300):\n",
    "    start_idx = num_components - n_top_components\n",
    "    exp_variance = np.square(s.iloc[start_idx:,:]).sum()/np.square(s).sum()\n",
    "    return exp_variance"
   ]
  }
 ],
 "metadata": {
  "kernelspec": {
   "display_name": "Python 3",
   "language": "python",
   "name": "python3"
  },
  "language_info": {
   "codemirror_mode": {
    "name": "ipython",
    "version": 3
   },
   "file_extension": ".py",
   "mimetype": "text/x-python",
   "name": "python",
   "nbconvert_exporter": "python",
   "pygments_lexer": "ipython3",
   "version": "3.6.8"
  }
 },
 "nbformat": 4,
 "nbformat_minor": 4
}
