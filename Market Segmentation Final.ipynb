{
 "cells": [
  {
   "cell_type": "code",
   "execution_count": 28,
   "metadata": {},
   "outputs": [],
   "source": [
    "# import boto3\n",
    "import pandas as pd\n",
    "import numpy as np\n",
    "from sklearn.preprocessing import MinMaxScaler\n",
    "from sklearn.decomposition import PCA\n",
    "from sklearn.compose import ColumnTransformer\n",
    "from sklearn.pipeline import Pipeline\n",
    "from sklearn.impute import SimpleImputer\n",
    "\n",
    "from sklearn.cluster import KMeans\n",
    "import matplotlib.pyplot as plt\n",
    "import seaborn as sns\n",
    "plt.style.use('ggplot')"
   ]
  },
  {
   "cell_type": "code",
   "execution_count": 3,
   "metadata": {},
   "outputs": [
    {
     "name": "stderr",
     "output_type": "stream",
     "text": [
      "/Users/richard.wuebker/.pyenv/versions/science/lib/python3.6/site-packages/IPython/core/interactiveshell.py:3063: DtypeWarning: Columns (18,19) have mixed types.Specify dtype option on import or set low_memory=False.\n",
      "  interactivity=interactivity, compiler=compiler, result=result)\n"
     ]
    },
    {
     "name": "stdout",
     "output_type": "stream",
     "text": [
      "(891221, 365)\n"
     ]
    }
   ],
   "source": [
    "germany_df = pd.read_csv('data/Udacity_AZDIAS_052018.csv', sep=';', index_col='LNR')\n",
    "customers_df = pd.read_csv('data/Udacity_CUSTOMERS_052018.csv', sep=';', index_col='LNR')\n",
    "train_df = pd.read_csv('data/Udacity_MAILOUT_052018_TRAIN.csv', sep=';', index_col='LNR')\n",
    "test_df = pd.read_csv('data/Udacity_MAILOUT_052018_TEST.csv', sep=';', index_col='LNR')\n",
    "metadata = pd.read_csv('data/metadata.csv')\n",
    "print(germany_df.shape)"
   ]
  },
  {
   "cell_type": "code",
   "execution_count": 4,
   "metadata": {},
   "outputs": [
    {
     "data": {
      "text/html": [
       "<div>\n",
       "<style scoped>\n",
       "    .dataframe tbody tr th:only-of-type {\n",
       "        vertical-align: middle;\n",
       "    }\n",
       "\n",
       "    .dataframe tbody tr th {\n",
       "        vertical-align: top;\n",
       "    }\n",
       "\n",
       "    .dataframe thead th {\n",
       "        text-align: right;\n",
       "    }\n",
       "</style>\n",
       "<table border=\"1\" class=\"dataframe\">\n",
       "  <thead>\n",
       "    <tr style=\"text-align: right;\">\n",
       "      <th></th>\n",
       "      <th>feature_name</th>\n",
       "      <th>type</th>\n",
       "      <th>unknown_neg_one</th>\n",
       "      <th>unknown_zero</th>\n",
       "      <th>unknown_nine</th>\n",
       "      <th>zero_none</th>\n",
       "      <th>needs_reverse</th>\n",
       "      <th>keep</th>\n",
       "    </tr>\n",
       "  </thead>\n",
       "  <tbody>\n",
       "    <tr>\n",
       "      <th>0</th>\n",
       "      <td>AGER_TYP</td>\n",
       "      <td>ordinal</td>\n",
       "      <td>1</td>\n",
       "      <td>1</td>\n",
       "      <td>0</td>\n",
       "      <td>0</td>\n",
       "      <td>0</td>\n",
       "      <td>1</td>\n",
       "    </tr>\n",
       "    <tr>\n",
       "      <th>1</th>\n",
       "      <td>ALTERSKATEGORIE_GROB</td>\n",
       "      <td>ordinal</td>\n",
       "      <td>1</td>\n",
       "      <td>1</td>\n",
       "      <td>1</td>\n",
       "      <td>0</td>\n",
       "      <td>0</td>\n",
       "      <td>1</td>\n",
       "    </tr>\n",
       "    <tr>\n",
       "      <th>2</th>\n",
       "      <td>ALTER_HH</td>\n",
       "      <td>ordinal</td>\n",
       "      <td>0</td>\n",
       "      <td>1</td>\n",
       "      <td>0</td>\n",
       "      <td>0</td>\n",
       "      <td>0</td>\n",
       "      <td>1</td>\n",
       "    </tr>\n",
       "    <tr>\n",
       "      <th>3</th>\n",
       "      <td>ANREDE_KZ</td>\n",
       "      <td>categorical</td>\n",
       "      <td>1</td>\n",
       "      <td>1</td>\n",
       "      <td>0</td>\n",
       "      <td>0</td>\n",
       "      <td>0</td>\n",
       "      <td>1</td>\n",
       "    </tr>\n",
       "    <tr>\n",
       "      <th>4</th>\n",
       "      <td>ANZ_HAUSHALTE_AKTIV</td>\n",
       "      <td>ordinal</td>\n",
       "      <td>0</td>\n",
       "      <td>0</td>\n",
       "      <td>0</td>\n",
       "      <td>0</td>\n",
       "      <td>0</td>\n",
       "      <td>1</td>\n",
       "    </tr>\n",
       "  </tbody>\n",
       "</table>\n",
       "</div>"
      ],
      "text/plain": [
       "           feature_name         type  unknown_neg_one  unknown_zero  \\\n",
       "0              AGER_TYP      ordinal                1             1   \n",
       "1  ALTERSKATEGORIE_GROB      ordinal                1             1   \n",
       "2              ALTER_HH      ordinal                0             1   \n",
       "3             ANREDE_KZ  categorical                1             1   \n",
       "4   ANZ_HAUSHALTE_AKTIV      ordinal                0             0   \n",
       "\n",
       "   unknown_nine  zero_none  needs_reverse  keep  \n",
       "0             0          0              0     1  \n",
       "1             1          0              0     1  \n",
       "2             0          0              0     1  \n",
       "3             0          0              0     1  \n",
       "4             0          0              0     1  "
      ]
     },
     "execution_count": 4,
     "metadata": {},
     "output_type": "execute_result"
    }
   ],
   "source": [
    "metadata.head()"
   ]
  },
  {
   "cell_type": "code",
   "execution_count": 9,
   "metadata": {},
   "outputs": [],
   "source": [
    "CAMEO_DEU_2015_MAP = {\n",
    "    '1A': 1,\n",
    "    '1B': 1,\n",
    "    '1C': 1,\n",
    "    '1D': 1,\n",
    "    '1E': 1,\n",
    "    '2A': 2,\n",
    "    '2B': 2,\n",
    "    '2C': 2,\n",
    "    '2D': 2,\n",
    "    '3A': 3,\n",
    "    '3B': 3,\n",
    "    '3C': 3,\n",
    "    '3D': 3,\n",
    "    '4A': 4,\n",
    "    '4B': 4,\n",
    "    '4C': 4,\n",
    "    '4D': 4,\n",
    "    '4E': 4,\n",
    "    '5A': 5,\n",
    "    '5B': 5,\n",
    "    '5C': 5,\n",
    "    '5D': 5,\n",
    "    '5E': 5,\n",
    "    '5F': 5,\n",
    "    '6A': 6,\n",
    "    '6B': 6,\n",
    "    '6C': 6,\n",
    "    '6D': 6,\n",
    "    '6E': 6,\n",
    "    '6F': 6,\n",
    "    '7A': 7,\n",
    "    '7B': 7,\n",
    "    '7C': 7,\n",
    "    '7D': 7,\n",
    "    '7E': 7,\n",
    "    '8A': 8,\n",
    "    '8B': 8,\n",
    "    '8C': 8,\n",
    "    '8D': 8,\n",
    "    '9A': 9,\n",
    "    '9B': 9,\n",
    "    '9C': 9,\n",
    "    '9D': 9,\n",
    "    '9E': 9\n",
    "}\n",
    "\n",
    "PRAEGENDE_JUGENDJAHRE_MAP = {\n",
    "    1: 0,\n",
    "    2: 1,\n",
    "    3: 0,\n",
    "    4: 1,\n",
    "    5: 0,\n",
    "    6: 1,\n",
    "    7: 1,\n",
    "    8: 0,\n",
    "    9: 1,\n",
    "    10: 0,\n",
    "    11: 1,\n",
    "    12: 0,\n",
    "    13: 1,\n",
    "    14: 0,\n",
    "    15: 1\n",
    "}"
   ]
  },
  {
   "cell_type": "code",
   "execution_count": 11,
   "metadata": {},
   "outputs": [],
   "source": [
    "def reverse_order(val, mx, mn):\n",
    "    diff_from_low = val - mn \n",
    "    return mx - diff_from_low\n",
    "\n",
    "\n",
    "def default_clean(df, drop_threshold=20, testing=False):\n",
    "    df_ = df.copy()\n",
    "    \n",
    "    print('initial df shape: ', df_.shape)\n",
    "    keep_features = list(metadata[metadata['keep'] == 1]['feature_name'])\n",
    "    if 'RESPONSE' in df.columns:\n",
    "        keep_features.append('RESPONSE')\n",
    "    df_ = df_[keep_features]\n",
    "    \n",
    "    filter_ = df_['CAMEO_DEUG_2015'] != np.nan\n",
    "    df_.loc[filter_, 'CAMEO_DEUG_2015'] = pd.to_numeric(df_.loc[filter_, 'CAMEO_DEUG_2015'], errors='coerce')\n",
    "    \n",
    "    # set zero to negative one where zero means unknown\n",
    "    unknown_zero_features = list(metadata[metadata['unknown_zero'] == 1]['feature_name'])\n",
    "    for feature in unknown_zero_features:\n",
    "        df_.loc[df_[feature] == 0, feature] = -1\n",
    "        \n",
    "    # set nine to negative one where nine means unknown\n",
    "    unknown_nine_features = list(metadata[metadata['unknown_nine'] == 1]['feature_name'])\n",
    "    for feature in unknown_nine_features:\n",
    "        df_.loc[df_[feature] == 9, feature] = -1\n",
    "        \n",
    "        \n",
    "    # special cases\n",
    "    df_['CAMEO_DEUG_2015'].replace('X', np.nan, inplace=True)\n",
    "    #df_['OST_WEST_KZ'].replace('O', 1, inplace=True)\n",
    "    #df_['OST_WEST_KZ'].replace('W', 0, inplace=True)    \n",
    "    df_['CAMEO_DEU_2015'] = df_['CAMEO_DEU_2015'].apply(lambda x: x if x in CAMEO_DEU_2015_MAP else np.nan)\n",
    "    df_['PRAEGENDE_JUGENDJAHRE'] = df_['PRAEGENDE_JUGENDJAHRE'].apply(lambda x: PRAEGENDE_JUGENDJAHRE_MAP[x] if x in PRAEGENDE_JUGENDJAHRE_MAP else np.nan)\n",
    "    \n",
    "    # set -1 (unknown) to np.nan\n",
    "    df_ = df_.replace(-1, np.nan)\n",
    "    \n",
    "    \n",
    "    # change some numerical columns to categorical for one hot encoding:\n",
    "    cat_cols = list(metadata.loc[(metadata['type'] == 'categorical') & (metadata['keep'] == 1), 'feature_name'])\n",
    "    print('cat_cols: ', cat_cols)\n",
    "    for col in cat_cols:\n",
    "        if col in df_.columns:\n",
    "            df_[col] = np.where(df_[col].isnull(), df_[col], df_[col].astype('str'))\n",
    "\n",
    "    df_ = pd.get_dummies(df_, prefix=cat_cols, columns=cat_cols)\n",
    "    \n",
    "    \n",
    "    # reverse some cols so higher number = higher feature\n",
    "    reverse_cols = list(metadata.loc[metadata['needs_reverse']==1, 'feature_name'])\n",
    "    for col in reverse_cols:\n",
    "        if col in df_.columns:\n",
    "            series = df_[col]\n",
    "            df_[col] = df_[col].apply(reverse_order, args=(np.max(series), np.min(series)))\n",
    "            \n",
    "            \n",
    "    percent_missing = df_.isnull().sum() * 100 / len(df)\n",
    "    mv_df = pd.DataFrame({'column_name': df_.columns, 'percent_missing': percent_missing})\n",
    "    mv_cols = mv_df.loc[mv_df['percent_missing'] > drop_threshold]['column_name']    \n",
    "    df_ = df_.drop(list(mv_cols), axis=1)\n",
    "    \n",
    "    # choosing not to drop rows\n",
    "    if False:\n",
    "        \n",
    "        grouped = df_.groupby(df_.RESPONSE)\n",
    "        pos = grouped.get_group(1)\n",
    "        neg = grouped.get_group(0)\n",
    "        neg = neg.dropna(thresh=thresh)\n",
    "        df_  = neg.append(pos, verify_integrity=True, ignore_index=False)\n",
    "        \n",
    "        \n",
    "    #df_ = df_.loc[:, ~df_.columns.str.startswith('KB')]\n",
    "    \n",
    "    print('new df shape: ', df_.shape)\n",
    "    \n",
    "    return df_"
   ]
  },
  {
   "cell_type": "code",
   "execution_count": 23,
   "metadata": {},
   "outputs": [
    {
     "name": "stdout",
     "output_type": "stream",
     "text": [
      "initial df shape:  (891221, 365)\n",
      "cat_cols:  ['ANREDE_KZ', 'CAMEO_DEU_2015', 'D19_KONSUMTYP', 'GEBAEUDETYP', 'GEBAEUDETYP_RASTER', 'GFK_URLAUBERTYP', 'GREEN_AVANTGARDE', 'HEALTH_TYP', 'KBA05_HERSTTEMP', 'KBA05_MAXHERST', 'KBA05_MODTEMP', 'KBA05_SEG6', 'KONSUMNAEHE', 'NATIONALITAET_KZ', 'OST_WEST_KZ', 'PRAEGENDE_JUGENDJAHRE', 'TITEL_KZ', 'VERS_TYP', 'ZABEOTYP']\n",
      "new df shape:  (891221, 374)\n",
      "(891221, 374)\n",
      "initial df shape:  (191652, 368)\n",
      "cat_cols:  ['ANREDE_KZ', 'CAMEO_DEU_2015', 'D19_KONSUMTYP', 'GEBAEUDETYP', 'GEBAEUDETYP_RASTER', 'GFK_URLAUBERTYP', 'GREEN_AVANTGARDE', 'HEALTH_TYP', 'KBA05_HERSTTEMP', 'KBA05_MAXHERST', 'KBA05_MODTEMP', 'KBA05_SEG6', 'KONSUMNAEHE', 'NATIONALITAET_KZ', 'OST_WEST_KZ', 'PRAEGENDE_JUGENDJAHRE', 'TITEL_KZ', 'VERS_TYP', 'ZABEOTYP']\n",
      "new df shape:  (191652, 370)\n",
      "(191652, 370)\n",
      "initial df shape:  (42962, 366)\n",
      "cat_cols:  ['ANREDE_KZ', 'CAMEO_DEU_2015', 'D19_KONSUMTYP', 'GEBAEUDETYP', 'GEBAEUDETYP_RASTER', 'GFK_URLAUBERTYP', 'GREEN_AVANTGARDE', 'HEALTH_TYP', 'KBA05_HERSTTEMP', 'KBA05_MAXHERST', 'KBA05_MODTEMP', 'KBA05_SEG6', 'KONSUMNAEHE', 'NATIONALITAET_KZ', 'OST_WEST_KZ', 'PRAEGENDE_JUGENDJAHRE', 'TITEL_KZ', 'VERS_TYP', 'ZABEOTYP']\n",
      "new df shape:  (42962, 373)\n",
      "initial df shape:  (42833, 365)\n",
      "cat_cols:  ['ANREDE_KZ', 'CAMEO_DEU_2015', 'D19_KONSUMTYP', 'GEBAEUDETYP', 'GEBAEUDETYP_RASTER', 'GFK_URLAUBERTYP', 'GREEN_AVANTGARDE', 'HEALTH_TYP', 'KBA05_HERSTTEMP', 'KBA05_MAXHERST', 'KBA05_MODTEMP', 'KBA05_SEG6', 'KONSUMNAEHE', 'NATIONALITAET_KZ', 'OST_WEST_KZ', 'PRAEGENDE_JUGENDJAHRE', 'TITEL_KZ', 'VERS_TYP', 'ZABEOTYP']\n",
      "new df shape:  (42833, 372)\n"
     ]
    }
   ],
   "source": [
    "clean_g_data = default_clean(germany_df, drop_threshold=30)\n",
    "print(clean_g_data.shape)\n",
    "clean_c_data = default_clean(customers_df, drop_threshold=30)\n",
    "print(clean_c_data.shape)\n",
    "\n",
    "train_df_init = default_clean(train_df, drop_threshold=30)\n",
    "test_df_init = default_clean(test_df, drop_threshold=30)"
   ]
  },
  {
   "cell_type": "code",
   "execution_count": 26,
   "metadata": {},
   "outputs": [],
   "source": [
    "def get_initial_sets():\n",
    "\n",
    "\n",
    "    inter_cols = list(set.intersection(set(clean_g_data.columns), set(clean_c_data.columns), set(train_df_init), \n",
    "                                       set(test_df_init.columns))) \n",
    "\n",
    "    clean_g_full = clean_g_data[inter_cols]\n",
    "\n",
    "    # \"Cardinality\" means the number of unique values in a column\n",
    "    # Select categorical columns with relatively low cardinality (convenient but arbitrary)\n",
    "    categorical_cols = [cname for cname in clean_g_full.columns if\n",
    "                        clean_g_full[cname].nunique() < 15 and\n",
    "                        clean_g_full[cname].nunique() >= 2 and\n",
    "                        clean_g_full[cname].dtype == \"object\"]\n",
    "\n",
    "\n",
    "    # Select numerical columns\n",
    "    numerical_cols = [cname for cname in clean_g_full.columns if \n",
    "                    clean_g_full[cname].dtype in ['int64', 'float64', 'uint8']]\n",
    "    \n",
    "\n",
    "    # Keep selected columns only\n",
    "    my_cols = numerical_cols + categorical_cols\n",
    "\n",
    "    # supervised testing and full datasets\n",
    "    X_test = test_df_init[my_cols].copy()\n",
    "    X_total_train = train_df_init[my_cols].copy()\n",
    "    y_total_train = train_df_init['RESPONSE'].copy()\n",
    "    clean_g = clean_g_data[my_cols].copy()\n",
    "    clean_c = clean_c_data[my_cols].copy()\n",
    "\n",
    "    assert(list(X_total_train.columns) == list(X_test.columns) == list(clean_g.columns) == list(clean_c.columns))\n",
    "    \n",
    "    return clean_g, clean_c, X_total_train, y_total_train, X_test, numerical_cols, categorical_cols"
   ]
  },
  {
   "cell_type": "code",
   "execution_count": 29,
   "metadata": {},
   "outputs": [
    {
     "name": "stdout",
     "output_type": "stream",
     "text": [
      "[]\n"
     ]
    }
   ],
   "source": [
    "clean_g, clean_c, X_total_train, y_total_train, X_test, numerical_cols, categorical_cols = get_initial_sets()\n",
    "\n",
    "# Preprocessing for numerical data\n",
    "numerical_transformer = Pipeline(steps=[\n",
    "    ('imputer', SimpleImputer(strategy='mean')),\n",
    "    ('scaler', MinMaxScaler())\n",
    "])\n",
    "\n",
    "# Preprocessing for categorical data\n",
    "categorical_transformer = Pipeline(steps=[\n",
    "    ('imputer', SimpleImputer(strategy='most_frequent')),\n",
    "   # ('onehot', OneHotEncoder(handle_unknown='ignore'))\n",
    "])\n",
    "\n",
    "# Bundle preprocessing for numerical and categorical data\n",
    "preprocessor = ColumnTransformer(\n",
    "    transformers=[\n",
    "        ('num', numerical_transformer, numerical_cols),\n",
    "        ('cat', categorical_transformer, categorical_cols)\n",
    "    ])"
   ]
  },
  {
   "cell_type": "code",
   "execution_count": 32,
   "metadata": {},
   "outputs": [],
   "source": [
    "my_pipeline = Pipeline(steps=[('preprocessor', preprocessor)\n",
    "                     ])\n",
    "\n",
    "imputed_g = pd.DataFrame(my_pipeline.fit_transform(clean_g), index=clean_g.index, columns=clean_g.columns)\n",
    "imputed_c = pd.DataFrame(my_pipeline.transform(clean_c), index=clean_c.index, columns=clean_c.columns)\n",
    "imputed_train = pd.DataFrame(my_pipeline.transform(X_total_train), index=X_total_train.index, columns=X_total_train.columns)\n",
    "imputed_test = pd.DataFrame(my_pipeline.transform(X_test), index=X_test.index, columns=X_test.columns)"
   ]
  },
  {
   "cell_type": "code",
   "execution_count": 33,
   "metadata": {},
   "outputs": [
    {
     "data": {
      "text/html": [
       "<div>\n",
       "<style scoped>\n",
       "    .dataframe tbody tr th:only-of-type {\n",
       "        vertical-align: middle;\n",
       "    }\n",
       "\n",
       "    .dataframe tbody tr th {\n",
       "        vertical-align: top;\n",
       "    }\n",
       "\n",
       "    .dataframe thead th {\n",
       "        text-align: right;\n",
       "    }\n",
       "</style>\n",
       "<table border=\"1\" class=\"dataframe\">\n",
       "  <thead>\n",
       "    <tr style=\"text-align: right;\">\n",
       "      <th></th>\n",
       "      <th>KBA13_VORB_2</th>\n",
       "      <th>KBA13_BJ_2004</th>\n",
       "      <th>D19_GESAMT_ANZ_12</th>\n",
       "      <th>KBA05_CCM4</th>\n",
       "      <th>D19_KONSUMTYP_2.0</th>\n",
       "      <th>KBA13_FIAT</th>\n",
       "      <th>KBA13_CCM_0_1400</th>\n",
       "      <th>KBA05_MAXHERST_1.0</th>\n",
       "      <th>TITEL_KZ_3.0</th>\n",
       "      <th>KBA05_ALTER2</th>\n",
       "      <th>...</th>\n",
       "      <th>KBA13_KRSSEG_VAN</th>\n",
       "      <th>NATIONALITAET_KZ_1.0</th>\n",
       "      <th>FINANZTYP</th>\n",
       "      <th>KBA13_SEG_GROSSRAUMVANS</th>\n",
       "      <th>D19_KONSUMTYP_1.0</th>\n",
       "      <th>CAMEO_DEU_2015_3C</th>\n",
       "      <th>KBA05_KRSAQUOT</th>\n",
       "      <th>KBA13_SEG_SONSTIGE</th>\n",
       "      <th>KBA05_MAXVORB</th>\n",
       "      <th>GEBAEUDETYP_RASTER_2.0</th>\n",
       "    </tr>\n",
       "  </thead>\n",
       "  <tbody>\n",
       "    <tr>\n",
       "      <th>count</th>\n",
       "      <td>42962.000000</td>\n",
       "      <td>42962.000000</td>\n",
       "      <td>42962.000000</td>\n",
       "      <td>42962.00000</td>\n",
       "      <td>42962.000000</td>\n",
       "      <td>42962.000000</td>\n",
       "      <td>42962.000000</td>\n",
       "      <td>42962.000000</td>\n",
       "      <td>42962.000000</td>\n",
       "      <td>42962.000000</td>\n",
       "      <td>...</td>\n",
       "      <td>42962.000000</td>\n",
       "      <td>42962.000000</td>\n",
       "      <td>42962.000000</td>\n",
       "      <td>42962.000000</td>\n",
       "      <td>42962.000000</td>\n",
       "      <td>42962.000000</td>\n",
       "      <td>42962.000000</td>\n",
       "      <td>42962.000000</td>\n",
       "      <td>42962.000000</td>\n",
       "      <td>42962.000000</td>\n",
       "    </tr>\n",
       "    <tr>\n",
       "      <th>mean</th>\n",
       "      <td>0.488556</td>\n",
       "      <td>0.507415</td>\n",
       "      <td>0.159269</td>\n",
       "      <td>0.31355</td>\n",
       "      <td>0.139356</td>\n",
       "      <td>0.524582</td>\n",
       "      <td>0.451527</td>\n",
       "      <td>0.092361</td>\n",
       "      <td>0.000116</td>\n",
       "      <td>0.468676</td>\n",
       "      <td>...</td>\n",
       "      <td>0.652906</td>\n",
       "      <td>0.801266</td>\n",
       "      <td>0.345906</td>\n",
       "      <td>0.524551</td>\n",
       "      <td>0.180392</td>\n",
       "      <td>0.036009</td>\n",
       "      <td>0.542559</td>\n",
       "      <td>0.512277</td>\n",
       "      <td>0.487309</td>\n",
       "      <td>0.048159</td>\n",
       "    </tr>\n",
       "    <tr>\n",
       "      <th>std</th>\n",
       "      <td>0.214268</td>\n",
       "      <td>0.215512</td>\n",
       "      <td>0.237569</td>\n",
       "      <td>0.26552</td>\n",
       "      <td>0.346321</td>\n",
       "      <td>0.230245</td>\n",
       "      <td>0.259789</td>\n",
       "      <td>0.289538</td>\n",
       "      <td>0.010788</td>\n",
       "      <td>0.226521</td>\n",
       "      <td>...</td>\n",
       "      <td>0.182690</td>\n",
       "      <td>0.399052</td>\n",
       "      <td>0.333689</td>\n",
       "      <td>0.233786</td>\n",
       "      <td>0.384518</td>\n",
       "      <td>0.186314</td>\n",
       "      <td>0.243169</td>\n",
       "      <td>0.214601</td>\n",
       "      <td>0.323537</td>\n",
       "      <td>0.214104</td>\n",
       "    </tr>\n",
       "    <tr>\n",
       "      <th>min</th>\n",
       "      <td>0.000000</td>\n",
       "      <td>0.000000</td>\n",
       "      <td>0.000000</td>\n",
       "      <td>0.00000</td>\n",
       "      <td>0.000000</td>\n",
       "      <td>0.000000</td>\n",
       "      <td>0.000000</td>\n",
       "      <td>0.000000</td>\n",
       "      <td>0.000000</td>\n",
       "      <td>0.000000</td>\n",
       "      <td>...</td>\n",
       "      <td>0.000000</td>\n",
       "      <td>0.000000</td>\n",
       "      <td>0.000000</td>\n",
       "      <td>0.000000</td>\n",
       "      <td>0.000000</td>\n",
       "      <td>0.000000</td>\n",
       "      <td>0.000000</td>\n",
       "      <td>0.000000</td>\n",
       "      <td>0.000000</td>\n",
       "      <td>0.000000</td>\n",
       "    </tr>\n",
       "    <tr>\n",
       "      <th>25%</th>\n",
       "      <td>0.500000</td>\n",
       "      <td>0.495705</td>\n",
       "      <td>0.000000</td>\n",
       "      <td>0.00000</td>\n",
       "      <td>0.000000</td>\n",
       "      <td>0.500000</td>\n",
       "      <td>0.400000</td>\n",
       "      <td>0.000000</td>\n",
       "      <td>0.000000</td>\n",
       "      <td>0.250000</td>\n",
       "      <td>...</td>\n",
       "      <td>0.648434</td>\n",
       "      <td>1.000000</td>\n",
       "      <td>0.000000</td>\n",
       "      <td>0.500000</td>\n",
       "      <td>0.000000</td>\n",
       "      <td>0.000000</td>\n",
       "      <td>0.495091</td>\n",
       "      <td>0.500000</td>\n",
       "      <td>0.500000</td>\n",
       "      <td>0.000000</td>\n",
       "    </tr>\n",
       "    <tr>\n",
       "      <th>50%</th>\n",
       "      <td>0.500000</td>\n",
       "      <td>0.500000</td>\n",
       "      <td>0.000000</td>\n",
       "      <td>0.25000</td>\n",
       "      <td>0.000000</td>\n",
       "      <td>0.500000</td>\n",
       "      <td>0.468486</td>\n",
       "      <td>0.000000</td>\n",
       "      <td>0.000000</td>\n",
       "      <td>0.500000</td>\n",
       "      <td>...</td>\n",
       "      <td>0.666667</td>\n",
       "      <td>1.000000</td>\n",
       "      <td>0.200000</td>\n",
       "      <td>0.500000</td>\n",
       "      <td>0.000000</td>\n",
       "      <td>0.000000</td>\n",
       "      <td>0.500000</td>\n",
       "      <td>0.500000</td>\n",
       "      <td>0.500000</td>\n",
       "      <td>0.000000</td>\n",
       "    </tr>\n",
       "    <tr>\n",
       "      <th>75%</th>\n",
       "      <td>0.502774</td>\n",
       "      <td>0.500000</td>\n",
       "      <td>0.333333</td>\n",
       "      <td>0.50000</td>\n",
       "      <td>0.000000</td>\n",
       "      <td>0.750000</td>\n",
       "      <td>0.600000</td>\n",
       "      <td>0.000000</td>\n",
       "      <td>0.000000</td>\n",
       "      <td>0.508251</td>\n",
       "      <td>...</td>\n",
       "      <td>0.666667</td>\n",
       "      <td>1.000000</td>\n",
       "      <td>0.800000</td>\n",
       "      <td>0.750000</td>\n",
       "      <td>0.000000</td>\n",
       "      <td>0.000000</td>\n",
       "      <td>0.750000</td>\n",
       "      <td>0.517860</td>\n",
       "      <td>0.541663</td>\n",
       "      <td>0.000000</td>\n",
       "    </tr>\n",
       "    <tr>\n",
       "      <th>max</th>\n",
       "      <td>1.000000</td>\n",
       "      <td>1.000000</td>\n",
       "      <td>1.000000</td>\n",
       "      <td>1.00000</td>\n",
       "      <td>1.000000</td>\n",
       "      <td>1.000000</td>\n",
       "      <td>1.000000</td>\n",
       "      <td>1.000000</td>\n",
       "      <td>1.000000</td>\n",
       "      <td>1.000000</td>\n",
       "      <td>...</td>\n",
       "      <td>1.000000</td>\n",
       "      <td>1.000000</td>\n",
       "      <td>1.000000</td>\n",
       "      <td>1.000000</td>\n",
       "      <td>1.000000</td>\n",
       "      <td>1.000000</td>\n",
       "      <td>1.000000</td>\n",
       "      <td>1.000000</td>\n",
       "      <td>1.000000</td>\n",
       "      <td>1.000000</td>\n",
       "    </tr>\n",
       "  </tbody>\n",
       "</table>\n",
       "<p>8 rows × 370 columns</p>\n",
       "</div>"
      ],
      "text/plain": [
       "       KBA13_VORB_2  KBA13_BJ_2004  D19_GESAMT_ANZ_12   KBA05_CCM4  \\\n",
       "count  42962.000000   42962.000000       42962.000000  42962.00000   \n",
       "mean       0.488556       0.507415           0.159269      0.31355   \n",
       "std        0.214268       0.215512           0.237569      0.26552   \n",
       "min        0.000000       0.000000           0.000000      0.00000   \n",
       "25%        0.500000       0.495705           0.000000      0.00000   \n",
       "50%        0.500000       0.500000           0.000000      0.25000   \n",
       "75%        0.502774       0.500000           0.333333      0.50000   \n",
       "max        1.000000       1.000000           1.000000      1.00000   \n",
       "\n",
       "       D19_KONSUMTYP_2.0    KBA13_FIAT  KBA13_CCM_0_1400  KBA05_MAXHERST_1.0  \\\n",
       "count       42962.000000  42962.000000      42962.000000        42962.000000   \n",
       "mean            0.139356      0.524582          0.451527            0.092361   \n",
       "std             0.346321      0.230245          0.259789            0.289538   \n",
       "min             0.000000      0.000000          0.000000            0.000000   \n",
       "25%             0.000000      0.500000          0.400000            0.000000   \n",
       "50%             0.000000      0.500000          0.468486            0.000000   \n",
       "75%             0.000000      0.750000          0.600000            0.000000   \n",
       "max             1.000000      1.000000          1.000000            1.000000   \n",
       "\n",
       "       TITEL_KZ_3.0  KBA05_ALTER2  ...  KBA13_KRSSEG_VAN  \\\n",
       "count  42962.000000  42962.000000  ...      42962.000000   \n",
       "mean       0.000116      0.468676  ...          0.652906   \n",
       "std        0.010788      0.226521  ...          0.182690   \n",
       "min        0.000000      0.000000  ...          0.000000   \n",
       "25%        0.000000      0.250000  ...          0.648434   \n",
       "50%        0.000000      0.500000  ...          0.666667   \n",
       "75%        0.000000      0.508251  ...          0.666667   \n",
       "max        1.000000      1.000000  ...          1.000000   \n",
       "\n",
       "       NATIONALITAET_KZ_1.0     FINANZTYP  KBA13_SEG_GROSSRAUMVANS  \\\n",
       "count          42962.000000  42962.000000             42962.000000   \n",
       "mean               0.801266      0.345906                 0.524551   \n",
       "std                0.399052      0.333689                 0.233786   \n",
       "min                0.000000      0.000000                 0.000000   \n",
       "25%                1.000000      0.000000                 0.500000   \n",
       "50%                1.000000      0.200000                 0.500000   \n",
       "75%                1.000000      0.800000                 0.750000   \n",
       "max                1.000000      1.000000                 1.000000   \n",
       "\n",
       "       D19_KONSUMTYP_1.0  CAMEO_DEU_2015_3C  KBA05_KRSAQUOT  \\\n",
       "count       42962.000000       42962.000000    42962.000000   \n",
       "mean            0.180392           0.036009        0.542559   \n",
       "std             0.384518           0.186314        0.243169   \n",
       "min             0.000000           0.000000        0.000000   \n",
       "25%             0.000000           0.000000        0.495091   \n",
       "50%             0.000000           0.000000        0.500000   \n",
       "75%             0.000000           0.000000        0.750000   \n",
       "max             1.000000           1.000000        1.000000   \n",
       "\n",
       "       KBA13_SEG_SONSTIGE  KBA05_MAXVORB  GEBAEUDETYP_RASTER_2.0  \n",
       "count        42962.000000   42962.000000            42962.000000  \n",
       "mean             0.512277       0.487309                0.048159  \n",
       "std              0.214601       0.323537                0.214104  \n",
       "min              0.000000       0.000000                0.000000  \n",
       "25%              0.500000       0.500000                0.000000  \n",
       "50%              0.500000       0.500000                0.000000  \n",
       "75%              0.517860       0.541663                0.000000  \n",
       "max              1.000000       1.000000                1.000000  \n",
       "\n",
       "[8 rows x 370 columns]"
      ]
     },
     "execution_count": 33,
     "metadata": {},
     "output_type": "execute_result"
    }
   ],
   "source": [
    "imputed_train.describe()"
   ]
  },
  {
   "cell_type": "code",
   "execution_count": 43,
   "metadata": {},
   "outputs": [
    {
     "name": "stdout",
     "output_type": "stream",
     "text": [
      "0.949718551331318\n"
     ]
    }
   ],
   "source": [
    "NUM_COMPONENTS = 200\n",
    "pca = PCA(n_components=NUM_COMPONENTS)\n",
    "pca.fit(imputed_g)\n",
    "print(np.sum(pca.explained_variance_ratio_))"
   ]
  },
  {
   "cell_type": "code",
   "execution_count": 44,
   "metadata": {},
   "outputs": [
    {
     "data": {
      "text/plain": [
       "0.9000948066904257"
      ]
     },
     "execution_count": 44,
     "metadata": {},
     "output_type": "execute_result"
    }
   ],
   "source": [
    "np.sum(pca.explained_variance_ratio_[:151])"
   ]
  },
  {
   "cell_type": "code",
   "execution_count": 45,
   "metadata": {},
   "outputs": [
    {
     "data": {
      "text/plain": [
       "370"
      ]
     },
     "execution_count": 45,
     "metadata": {},
     "output_type": "execute_result"
    }
   ],
   "source": [
    "features_list = list(imputed_g.columns)\n",
    "len(features_list)"
   ]
  },
  {
   "cell_type": "code",
   "execution_count": 47,
   "metadata": {},
   "outputs": [
    {
     "data": {
      "text/html": [
       "<div>\n",
       "<style scoped>\n",
       "    .dataframe tbody tr th:only-of-type {\n",
       "        vertical-align: middle;\n",
       "    }\n",
       "\n",
       "    .dataframe tbody tr th {\n",
       "        vertical-align: top;\n",
       "    }\n",
       "\n",
       "    .dataframe thead th {\n",
       "        text-align: right;\n",
       "    }\n",
       "</style>\n",
       "<table border=\"1\" class=\"dataframe\">\n",
       "  <thead>\n",
       "    <tr style=\"text-align: right;\">\n",
       "      <th></th>\n",
       "      <th>KBA13_VORB_2</th>\n",
       "      <th>KBA13_BJ_2004</th>\n",
       "      <th>D19_GESAMT_ANZ_12</th>\n",
       "      <th>KBA05_CCM4</th>\n",
       "      <th>D19_KONSUMTYP_2.0</th>\n",
       "      <th>KBA13_FIAT</th>\n",
       "      <th>KBA13_CCM_0_1400</th>\n",
       "      <th>KBA05_MAXHERST_1.0</th>\n",
       "      <th>TITEL_KZ_3.0</th>\n",
       "      <th>KBA05_ALTER2</th>\n",
       "      <th>...</th>\n",
       "      <th>KBA13_KRSSEG_VAN</th>\n",
       "      <th>NATIONALITAET_KZ_1.0</th>\n",
       "      <th>FINANZTYP</th>\n",
       "      <th>KBA13_SEG_GROSSRAUMVANS</th>\n",
       "      <th>D19_KONSUMTYP_1.0</th>\n",
       "      <th>CAMEO_DEU_2015_3C</th>\n",
       "      <th>KBA05_KRSAQUOT</th>\n",
       "      <th>KBA13_SEG_SONSTIGE</th>\n",
       "      <th>KBA05_MAXVORB</th>\n",
       "      <th>GEBAEUDETYP_RASTER_2.0</th>\n",
       "    </tr>\n",
       "  </thead>\n",
       "  <tbody>\n",
       "    <tr>\n",
       "      <th>195</th>\n",
       "      <td>-0.011453</td>\n",
       "      <td>0.024882</td>\n",
       "      <td>0.056340</td>\n",
       "      <td>0.108819</td>\n",
       "      <td>-0.016066</td>\n",
       "      <td>0.010611</td>\n",
       "      <td>-0.055256</td>\n",
       "      <td>-0.011123</td>\n",
       "      <td>1.173508e-04</td>\n",
       "      <td>0.059193</td>\n",
       "      <td>...</td>\n",
       "      <td>-0.012767</td>\n",
       "      <td>-0.000801</td>\n",
       "      <td>0.026464</td>\n",
       "      <td>0.033444</td>\n",
       "      <td>-0.035612</td>\n",
       "      <td>-0.048421</td>\n",
       "      <td>0.002720</td>\n",
       "      <td>-0.045267</td>\n",
       "      <td>0.167405</td>\n",
       "      <td>-0.014541</td>\n",
       "    </tr>\n",
       "    <tr>\n",
       "      <th>196</th>\n",
       "      <td>0.043009</td>\n",
       "      <td>0.004648</td>\n",
       "      <td>-0.040623</td>\n",
       "      <td>-0.041234</td>\n",
       "      <td>-0.007270</td>\n",
       "      <td>-0.081616</td>\n",
       "      <td>-0.013799</td>\n",
       "      <td>0.008444</td>\n",
       "      <td>-1.820749e-04</td>\n",
       "      <td>-0.019320</td>\n",
       "      <td>...</td>\n",
       "      <td>-0.005689</td>\n",
       "      <td>-0.002593</td>\n",
       "      <td>-0.017924</td>\n",
       "      <td>0.015614</td>\n",
       "      <td>0.014031</td>\n",
       "      <td>0.032342</td>\n",
       "      <td>-0.012355</td>\n",
       "      <td>0.055636</td>\n",
       "      <td>-0.017803</td>\n",
       "      <td>0.035869</td>\n",
       "    </tr>\n",
       "    <tr>\n",
       "      <th>197</th>\n",
       "      <td>0.023710</td>\n",
       "      <td>0.000911</td>\n",
       "      <td>-0.098375</td>\n",
       "      <td>0.000621</td>\n",
       "      <td>0.011936</td>\n",
       "      <td>0.061503</td>\n",
       "      <td>0.009945</td>\n",
       "      <td>-0.002674</td>\n",
       "      <td>7.577780e-07</td>\n",
       "      <td>-0.010287</td>\n",
       "      <td>...</td>\n",
       "      <td>0.003055</td>\n",
       "      <td>-0.005430</td>\n",
       "      <td>-0.023305</td>\n",
       "      <td>-0.049967</td>\n",
       "      <td>0.057361</td>\n",
       "      <td>-0.013263</td>\n",
       "      <td>-0.012082</td>\n",
       "      <td>-0.091193</td>\n",
       "      <td>0.038551</td>\n",
       "      <td>-0.012443</td>\n",
       "    </tr>\n",
       "    <tr>\n",
       "      <th>198</th>\n",
       "      <td>0.049914</td>\n",
       "      <td>0.021988</td>\n",
       "      <td>0.083880</td>\n",
       "      <td>-0.019774</td>\n",
       "      <td>-0.004873</td>\n",
       "      <td>-0.098990</td>\n",
       "      <td>-0.050598</td>\n",
       "      <td>0.000417</td>\n",
       "      <td>2.069148e-04</td>\n",
       "      <td>0.016886</td>\n",
       "      <td>...</td>\n",
       "      <td>-0.038568</td>\n",
       "      <td>-0.003587</td>\n",
       "      <td>0.015303</td>\n",
       "      <td>0.087372</td>\n",
       "      <td>-0.039853</td>\n",
       "      <td>-0.012244</td>\n",
       "      <td>0.001135</td>\n",
       "      <td>0.087453</td>\n",
       "      <td>-0.004771</td>\n",
       "      <td>-0.011263</td>\n",
       "    </tr>\n",
       "    <tr>\n",
       "      <th>199</th>\n",
       "      <td>0.023823</td>\n",
       "      <td>0.000905</td>\n",
       "      <td>-0.020866</td>\n",
       "      <td>-0.053622</td>\n",
       "      <td>0.002273</td>\n",
       "      <td>-0.034256</td>\n",
       "      <td>-0.037839</td>\n",
       "      <td>-0.010516</td>\n",
       "      <td>1.536747e-04</td>\n",
       "      <td>0.009865</td>\n",
       "      <td>...</td>\n",
       "      <td>0.016737</td>\n",
       "      <td>-0.000752</td>\n",
       "      <td>-0.001723</td>\n",
       "      <td>-0.036456</td>\n",
       "      <td>0.018350</td>\n",
       "      <td>-0.039477</td>\n",
       "      <td>-0.001880</td>\n",
       "      <td>0.043793</td>\n",
       "      <td>0.083363</td>\n",
       "      <td>0.026273</td>\n",
       "    </tr>\n",
       "  </tbody>\n",
       "</table>\n",
       "<p>5 rows × 370 columns</p>\n",
       "</div>"
      ],
      "text/plain": [
       "     KBA13_VORB_2  KBA13_BJ_2004  D19_GESAMT_ANZ_12  KBA05_CCM4  \\\n",
       "195     -0.011453       0.024882           0.056340    0.108819   \n",
       "196      0.043009       0.004648          -0.040623   -0.041234   \n",
       "197      0.023710       0.000911          -0.098375    0.000621   \n",
       "198      0.049914       0.021988           0.083880   -0.019774   \n",
       "199      0.023823       0.000905          -0.020866   -0.053622   \n",
       "\n",
       "     D19_KONSUMTYP_2.0  KBA13_FIAT  KBA13_CCM_0_1400  KBA05_MAXHERST_1.0  \\\n",
       "195          -0.016066    0.010611         -0.055256           -0.011123   \n",
       "196          -0.007270   -0.081616         -0.013799            0.008444   \n",
       "197           0.011936    0.061503          0.009945           -0.002674   \n",
       "198          -0.004873   -0.098990         -0.050598            0.000417   \n",
       "199           0.002273   -0.034256         -0.037839           -0.010516   \n",
       "\n",
       "     TITEL_KZ_3.0  KBA05_ALTER2  ...  KBA13_KRSSEG_VAN  NATIONALITAET_KZ_1.0  \\\n",
       "195  1.173508e-04      0.059193  ...         -0.012767             -0.000801   \n",
       "196 -1.820749e-04     -0.019320  ...         -0.005689             -0.002593   \n",
       "197  7.577780e-07     -0.010287  ...          0.003055             -0.005430   \n",
       "198  2.069148e-04      0.016886  ...         -0.038568             -0.003587   \n",
       "199  1.536747e-04      0.009865  ...          0.016737             -0.000752   \n",
       "\n",
       "     FINANZTYP  KBA13_SEG_GROSSRAUMVANS  D19_KONSUMTYP_1.0  CAMEO_DEU_2015_3C  \\\n",
       "195   0.026464                 0.033444          -0.035612          -0.048421   \n",
       "196  -0.017924                 0.015614           0.014031           0.032342   \n",
       "197  -0.023305                -0.049967           0.057361          -0.013263   \n",
       "198   0.015303                 0.087372          -0.039853          -0.012244   \n",
       "199  -0.001723                -0.036456           0.018350          -0.039477   \n",
       "\n",
       "     KBA05_KRSAQUOT  KBA13_SEG_SONSTIGE  KBA05_MAXVORB  GEBAEUDETYP_RASTER_2.0  \n",
       "195        0.002720           -0.045267       0.167405               -0.014541  \n",
       "196       -0.012355            0.055636      -0.017803                0.035869  \n",
       "197       -0.012082           -0.091193       0.038551               -0.012443  \n",
       "198        0.001135            0.087453      -0.004771               -0.011263  \n",
       "199       -0.001880            0.043793       0.083363                0.026273  \n",
       "\n",
       "[5 rows x 370 columns]"
      ]
     },
     "execution_count": 47,
     "metadata": {},
     "output_type": "execute_result"
    }
   ],
   "source": [
    "feature_weights = pca.components_\n",
    "w_df = pd.DataFrame(feature_weights, columns=imputed_g.columns)\n",
    "w_df.tail()"
   ]
  },
  {
   "cell_type": "code",
   "execution_count": 48,
   "metadata": {},
   "outputs": [],
   "source": [
    "def display_component(v, features_list, component_num, n_weights=10):\n",
    "    v_1_row = v.iloc[component_num, :]\n",
    "    v_1 = np.squeeze(v_1_row.values)\n",
    "    weights = pd.DataFrame(list(zip(v_1, features_list)), columns=['weight', 'feature'])\n",
    "    weights['abs_weight'] = weights['weight'].apply(lambda x: np.abs(x))\n",
    "    sorted_weight_data = weights.sort_values('abs_weight', ascending=False).head(n_weights)\n",
    "    ax = plt.subplots(figsize=(9,7))\n",
    "    ax = sns.barplot(data=sorted_weight_data, x='weight', y='feature', palette='Blues_d')\n",
    "    ax.set_title(f'PCA Component Makeup for Component #{component_num}')\n",
    "    plt.show()"
   ]
  },
  {
   "cell_type": "code",
   "execution_count": 54,
   "metadata": {},
   "outputs": [
    {
     "data": {
      "image/png": "[encoded data removed]",
      "text/plain": [
       "<Figure size 648x504 with 1 Axes>"
      ]
     },
     "metadata": {},
     "output_type": "display_data"
    }
   ],
   "source": [
    "num = 5\n",
    "display_component(w_df, features_list, num, n_weights=10)"
   ]
  },
  {
   "cell_type": "code",
   "execution_count": 55,
   "metadata": {},
   "outputs": [],
   "source": [
    "# transform germany and customer data\n",
    "germany_pca_data = pca.transform(imputed_g)\n",
    "customer_pca_data = pca.transform(imputed_c)\n",
    "train_pca = pca.transform(imputed_train)\n",
    "test_pca = pca.transform(imputed_test)"
   ]
  },
  {
   "cell_type": "code",
   "execution_count": 89,
   "metadata": {},
   "outputs": [
    {
     "data": {
      "text/plain": [
       "(891221, 200)"
      ]
     },
     "execution_count": 89,
     "metadata": {},
     "output_type": "execute_result"
    }
   ],
   "source": [
    "germany_pca_data.shape"
   ]
  },
  {
   "cell_type": "code",
   "execution_count": 63,
   "metadata": {},
   "outputs": [
    {
     "name": "stdout",
     "output_type": "stream",
     "text": [
      "k = 15\n",
      "k = 16\n",
      "k = 17\n",
      "k = 18\n",
      "k = 19\n"
     ]
    }
   ],
   "source": [
    "obs = len(germany_pca_data)\n",
    "#distances = []\n",
    "for k in range(15, 20):\n",
    "    print('k = {}'.format(k))\n",
    "    kmeans = KMeans(n_clusters=k)\n",
    "    kmeans.fit(germany_pca_data)\n",
    "    distances.append(kmeans.inertia_/obs)"
   ]
  },
  {
   "cell_type": "code",
   "execution_count": 65,
   "metadata": {},
   "outputs": [
    {
     "data": {
      "text/plain": [
       "19"
      ]
     },
     "execution_count": 65,
     "metadata": {},
     "output_type": "execute_result"
    }
   ],
   "source": [
    "len(distances)"
   ]
  },
  {
   "cell_type": "code",
   "execution_count": 66,
   "metadata": {},
   "outputs": [
    {
     "data": {
      "text/plain": [
       "Text(0.5, 1.0, 'Elbow curve')"
      ]
     },
     "execution_count": 66,
     "metadata": {},
     "output_type": "execute_result"
    },
    {
     "data": {
      "image/png": "[encoded data removed]",
      "text/plain": [
       "<Figure size 720x720 with 1 Axes>"
      ]
     },
     "metadata": {},
     "output_type": "display_data"
    }
   ],
   "source": [
    "fig = plt.figure(figsize=(10, 10))\n",
    "plt.plot(range(1,20), distances, color='blue')\n",
    "plt.xlim(0, 20)\n",
    "plt.ylim(10,30)\n",
    "plt.grid(True)\n",
    "plt.title('Elbow curve')"
   ]
  },
  {
   "cell_type": "code",
   "execution_count": 81,
   "metadata": {},
   "outputs": [
    {
     "data": {
      "text/plain": [
       "KMeans(n_clusters=7)"
      ]
     },
     "execution_count": 81,
     "metadata": {},
     "output_type": "execute_result"
    }
   ],
   "source": [
    "k = 7\n",
    "kmeans = KMeans(n_clusters=k)\n",
    "kmeans.fit(germany_pca_data)"
   ]
  },
  {
   "cell_type": "code",
   "execution_count": 82,
   "metadata": {},
   "outputs": [],
   "source": [
    "germany_pred = kmeans.predict(germany_pca_data)\n",
    "customer_pred = kmeans.predict(customer_pca_data)\n",
    "g_len = len(germany_pred)\n",
    "c_len = len(customer_pred)"
   ]
  },
  {
   "cell_type": "code",
   "execution_count": 83,
   "metadata": {},
   "outputs": [],
   "source": [
    "germany_pred_df = pd.DataFrame(germany_pred)\n",
    "germany_values = germany_pred_df[0].value_counts().sort_index()\n",
    "customer_pred_df = pd.DataFrame(customer_pred)\n",
    "customer_values = customer_pred_df[0].value_counts().sort_index()"
   ]
  },
  {
   "cell_type": "code",
   "execution_count": 84,
   "metadata": {},
   "outputs": [
    {
     "data": {
      "text/html": [
       "<div>\n",
       "<style scoped>\n",
       "    .dataframe tbody tr th:only-of-type {\n",
       "        vertical-align: middle;\n",
       "    }\n",
       "\n",
       "    .dataframe tbody tr th {\n",
       "        vertical-align: top;\n",
       "    }\n",
       "\n",
       "    .dataframe thead th {\n",
       "        text-align: right;\n",
       "    }\n",
       "</style>\n",
       "<table border=\"1\" class=\"dataframe\">\n",
       "  <thead>\n",
       "    <tr style=\"text-align: right;\">\n",
       "      <th></th>\n",
       "      <th>0</th>\n",
       "    </tr>\n",
       "  </thead>\n",
       "  <tbody>\n",
       "    <tr>\n",
       "      <th>0</th>\n",
       "      <td>4</td>\n",
       "    </tr>\n",
       "    <tr>\n",
       "      <th>1</th>\n",
       "      <td>2</td>\n",
       "    </tr>\n",
       "    <tr>\n",
       "      <th>2</th>\n",
       "      <td>0</td>\n",
       "    </tr>\n",
       "    <tr>\n",
       "      <th>3</th>\n",
       "      <td>1</td>\n",
       "    </tr>\n",
       "    <tr>\n",
       "      <th>4</th>\n",
       "      <td>3</td>\n",
       "    </tr>\n",
       "  </tbody>\n",
       "</table>\n",
       "</div>"
      ],
      "text/plain": [
       "   0\n",
       "0  4\n",
       "1  2\n",
       "2  0\n",
       "3  1\n",
       "4  3"
      ]
     },
     "execution_count": 84,
     "metadata": {},
     "output_type": "execute_result"
    }
   ],
   "source": [
    "germany_pred_df.head()"
   ]
  },
  {
   "cell_type": "code",
   "execution_count": 85,
   "metadata": {},
   "outputs": [
    {
     "data": {
      "text/plain": [
       "<matplotlib.legend.Legend at 0x12234ae48>"
      ]
     },
     "execution_count": 85,
     "metadata": {},
     "output_type": "execute_result"
    },
    {
     "data": {
      "image/png": "[encoded data removed]",
      "text/plain": [
       "<Figure size 720x504 with 1 Axes>"
      ]
     },
     "metadata": {},
     "output_type": "display_data"
    }
   ],
   "source": [
    "x = np.arange(k)  # the label locations\n",
    "width = 0.35  # the width of the bars\n",
    "\n",
    "fig, ax = plt.subplots(figsize=(10, 7))\n",
    "rects1 = ax.bar(x - width/2, germany_values.values/g_len, width, label='Germany', color='blue')\n",
    "rects2 = ax.bar(x + width/2, customer_values.values/c_len, width, label='Customers', color='green')\n",
    "\n",
    "# Add some text for labels, title and custom x-axis tick labels, etc.\n",
    "labels = ['C{}'.format(ix + 1) for ix in np.arange(k)]\n",
    "ax.set_ylabel('Number of Observations')\n",
    "ax.set_title('Observations per cluster')\n",
    "ax.set_xticks(x)\n",
    "ax.set_xticklabels(labels)\n",
    "ax.legend()"
   ]
  },
  {
   "cell_type": "code",
   "execution_count": 86,
   "metadata": {},
   "outputs": [
    {
     "data": {
      "text/html": [
       "<div>\n",
       "<style scoped>\n",
       "    .dataframe tbody tr th:only-of-type {\n",
       "        vertical-align: middle;\n",
       "    }\n",
       "\n",
       "    .dataframe tbody tr th {\n",
       "        vertical-align: top;\n",
       "    }\n",
       "\n",
       "    .dataframe thead th {\n",
       "        text-align: right;\n",
       "    }\n",
       "</style>\n",
       "<table border=\"1\" class=\"dataframe\">\n",
       "  <thead>\n",
       "    <tr style=\"text-align: right;\">\n",
       "      <th></th>\n",
       "      <th>comp_1</th>\n",
       "      <th>comp_2</th>\n",
       "      <th>comp_3</th>\n",
       "      <th>comp_4</th>\n",
       "      <th>comp_5</th>\n",
       "      <th>comp_6</th>\n",
       "      <th>comp_7</th>\n",
       "      <th>comp_8</th>\n",
       "      <th>comp_9</th>\n",
       "      <th>comp_10</th>\n",
       "      <th>...</th>\n",
       "      <th>comp_191</th>\n",
       "      <th>comp_192</th>\n",
       "      <th>comp_193</th>\n",
       "      <th>comp_194</th>\n",
       "      <th>comp_195</th>\n",
       "      <th>comp_196</th>\n",
       "      <th>comp_197</th>\n",
       "      <th>comp_198</th>\n",
       "      <th>comp_199</th>\n",
       "      <th>comp_200</th>\n",
       "    </tr>\n",
       "  </thead>\n",
       "  <tbody>\n",
       "    <tr>\n",
       "      <th>0</th>\n",
       "      <td>1.730745</td>\n",
       "      <td>0.945027</td>\n",
       "      <td>-0.155194</td>\n",
       "      <td>0.438351</td>\n",
       "      <td>0.142512</td>\n",
       "      <td>0.508874</td>\n",
       "      <td>0.531029</td>\n",
       "      <td>-0.011459</td>\n",
       "      <td>0.045344</td>\n",
       "      <td>0.488809</td>\n",
       "      <td>...</td>\n",
       "      <td>-0.007091</td>\n",
       "      <td>-0.002614</td>\n",
       "      <td>0.000216</td>\n",
       "      <td>0.004292</td>\n",
       "      <td>0.002165</td>\n",
       "      <td>-0.003279</td>\n",
       "      <td>-0.002053</td>\n",
       "      <td>0.009424</td>\n",
       "      <td>0.003089</td>\n",
       "      <td>-0.001311</td>\n",
       "    </tr>\n",
       "    <tr>\n",
       "      <th>1</th>\n",
       "      <td>0.620347</td>\n",
       "      <td>-0.145328</td>\n",
       "      <td>-0.671936</td>\n",
       "      <td>-0.051986</td>\n",
       "      <td>-0.638438</td>\n",
       "      <td>-0.774731</td>\n",
       "      <td>-0.094128</td>\n",
       "      <td>0.148151</td>\n",
       "      <td>0.043570</td>\n",
       "      <td>-0.172654</td>\n",
       "      <td>...</td>\n",
       "      <td>0.005788</td>\n",
       "      <td>0.000889</td>\n",
       "      <td>0.003045</td>\n",
       "      <td>-0.002745</td>\n",
       "      <td>-0.003960</td>\n",
       "      <td>-0.000998</td>\n",
       "      <td>0.000244</td>\n",
       "      <td>-0.002866</td>\n",
       "      <td>0.003324</td>\n",
       "      <td>0.001876</td>\n",
       "    </tr>\n",
       "    <tr>\n",
       "      <th>2</th>\n",
       "      <td>-1.236034</td>\n",
       "      <td>0.154196</td>\n",
       "      <td>1.130464</td>\n",
       "      <td>0.003431</td>\n",
       "      <td>-0.053268</td>\n",
       "      <td>-0.417896</td>\n",
       "      <td>0.290235</td>\n",
       "      <td>0.204370</td>\n",
       "      <td>-0.103879</td>\n",
       "      <td>0.157245</td>\n",
       "      <td>...</td>\n",
       "      <td>-0.001990</td>\n",
       "      <td>0.001639</td>\n",
       "      <td>-0.001551</td>\n",
       "      <td>0.001410</td>\n",
       "      <td>-0.001630</td>\n",
       "      <td>-0.006484</td>\n",
       "      <td>0.000314</td>\n",
       "      <td>0.002979</td>\n",
       "      <td>-0.005321</td>\n",
       "      <td>-0.004052</td>\n",
       "    </tr>\n",
       "    <tr>\n",
       "      <th>3</th>\n",
       "      <td>1.427378</td>\n",
       "      <td>-0.973308</td>\n",
       "      <td>0.857252</td>\n",
       "      <td>-0.218334</td>\n",
       "      <td>0.588280</td>\n",
       "      <td>-0.062966</td>\n",
       "      <td>-0.324244</td>\n",
       "      <td>-0.126533</td>\n",
       "      <td>-0.113583</td>\n",
       "      <td>-0.217573</td>\n",
       "      <td>...</td>\n",
       "      <td>-0.000640</td>\n",
       "      <td>0.001115</td>\n",
       "      <td>0.000676</td>\n",
       "      <td>-0.005559</td>\n",
       "      <td>0.003062</td>\n",
       "      <td>0.003790</td>\n",
       "      <td>0.000447</td>\n",
       "      <td>-0.009664</td>\n",
       "      <td>-0.000065</td>\n",
       "      <td>0.000832</td>\n",
       "    </tr>\n",
       "    <tr>\n",
       "      <th>4</th>\n",
       "      <td>-0.636211</td>\n",
       "      <td>0.632520</td>\n",
       "      <td>0.047300</td>\n",
       "      <td>-1.485468</td>\n",
       "      <td>-1.306903</td>\n",
       "      <td>1.169411</td>\n",
       "      <td>-0.445847</td>\n",
       "      <td>-0.686402</td>\n",
       "      <td>-0.210168</td>\n",
       "      <td>-0.124081</td>\n",
       "      <td>...</td>\n",
       "      <td>0.004513</td>\n",
       "      <td>-0.004046</td>\n",
       "      <td>0.003970</td>\n",
       "      <td>0.007038</td>\n",
       "      <td>-0.003517</td>\n",
       "      <td>0.006844</td>\n",
       "      <td>0.001316</td>\n",
       "      <td>-0.001013</td>\n",
       "      <td>-0.004671</td>\n",
       "      <td>-0.004000</td>\n",
       "    </tr>\n",
       "    <tr>\n",
       "      <th>5</th>\n",
       "      <td>-1.126568</td>\n",
       "      <td>-1.483509</td>\n",
       "      <td>-0.746212</td>\n",
       "      <td>0.205088</td>\n",
       "      <td>0.224145</td>\n",
       "      <td>0.835962</td>\n",
       "      <td>0.086758</td>\n",
       "      <td>0.527378</td>\n",
       "      <td>0.500446</td>\n",
       "      <td>-0.019414</td>\n",
       "      <td>...</td>\n",
       "      <td>-0.000237</td>\n",
       "      <td>-0.004300</td>\n",
       "      <td>0.001913</td>\n",
       "      <td>-0.004481</td>\n",
       "      <td>-0.002366</td>\n",
       "      <td>-0.002081</td>\n",
       "      <td>0.002855</td>\n",
       "      <td>0.002705</td>\n",
       "      <td>0.005247</td>\n",
       "      <td>0.008216</td>\n",
       "    </tr>\n",
       "    <tr>\n",
       "      <th>6</th>\n",
       "      <td>-1.045978</td>\n",
       "      <td>0.674438</td>\n",
       "      <td>-0.585460</td>\n",
       "      <td>0.513575</td>\n",
       "      <td>0.604617</td>\n",
       "      <td>-0.368050</td>\n",
       "      <td>-0.189144</td>\n",
       "      <td>-0.216776</td>\n",
       "      <td>-0.101886</td>\n",
       "      <td>-0.135418</td>\n",
       "      <td>...</td>\n",
       "      <td>0.000585</td>\n",
       "      <td>0.003770</td>\n",
       "      <td>-0.005673</td>\n",
       "      <td>0.001734</td>\n",
       "      <td>0.004499</td>\n",
       "      <td>0.004696</td>\n",
       "      <td>-0.001769</td>\n",
       "      <td>-0.001045</td>\n",
       "      <td>-0.001680</td>\n",
       "      <td>-0.000798</td>\n",
       "    </tr>\n",
       "  </tbody>\n",
       "</table>\n",
       "<p>7 rows × 200 columns</p>\n",
       "</div>"
      ],
      "text/plain": [
       "     comp_1    comp_2    comp_3    comp_4    comp_5    comp_6    comp_7  \\\n",
       "0  1.730745  0.945027 -0.155194  0.438351  0.142512  0.508874  0.531029   \n",
       "1  0.620347 -0.145328 -0.671936 -0.051986 -0.638438 -0.774731 -0.094128   \n",
       "2 -1.236034  0.154196  1.130464  0.003431 -0.053268 -0.417896  0.290235   \n",
       "3  1.427378 -0.973308  0.857252 -0.218334  0.588280 -0.062966 -0.324244   \n",
       "4 -0.636211  0.632520  0.047300 -1.485468 -1.306903  1.169411 -0.445847   \n",
       "5 -1.126568 -1.483509 -0.746212  0.205088  0.224145  0.835962  0.086758   \n",
       "6 -1.045978  0.674438 -0.585460  0.513575  0.604617 -0.368050 -0.189144   \n",
       "\n",
       "     comp_8    comp_9   comp_10  ...  comp_191  comp_192  comp_193  comp_194  \\\n",
       "0 -0.011459  0.045344  0.488809  ... -0.007091 -0.002614  0.000216  0.004292   \n",
       "1  0.148151  0.043570 -0.172654  ...  0.005788  0.000889  0.003045 -0.002745   \n",
       "2  0.204370 -0.103879  0.157245  ... -0.001990  0.001639 -0.001551  0.001410   \n",
       "3 -0.126533 -0.113583 -0.217573  ... -0.000640  0.001115  0.000676 -0.005559   \n",
       "4 -0.686402 -0.210168 -0.124081  ...  0.004513 -0.004046  0.003970  0.007038   \n",
       "5  0.527378  0.500446 -0.019414  ... -0.000237 -0.004300  0.001913 -0.004481   \n",
       "6 -0.216776 -0.101886 -0.135418  ...  0.000585  0.003770 -0.005673  0.001734   \n",
       "\n",
       "   comp_195  comp_196  comp_197  comp_198  comp_199  comp_200  \n",
       "0  0.002165 -0.003279 -0.002053  0.009424  0.003089 -0.001311  \n",
       "1 -0.003960 -0.000998  0.000244 -0.002866  0.003324  0.001876  \n",
       "2 -0.001630 -0.006484  0.000314  0.002979 -0.005321 -0.004052  \n",
       "3  0.003062  0.003790  0.000447 -0.009664 -0.000065  0.000832  \n",
       "4 -0.003517  0.006844  0.001316 -0.001013 -0.004671 -0.004000  \n",
       "5 -0.002366 -0.002081  0.002855  0.002705  0.005247  0.008216  \n",
       "6  0.004499  0.004696 -0.001769 -0.001045 -0.001680 -0.000798  \n",
       "\n",
       "[7 rows x 200 columns]"
      ]
     },
     "execution_count": 86,
     "metadata": {},
     "output_type": "execute_result"
    }
   ],
   "source": [
    "kmeans_df = pd.DataFrame(kmeans.cluster_centers_, columns = ['comp_{}'.format(i) for i in range(1,201)])\n",
    "kmeans_df"
   ]
  },
  {
   "cell_type": "code",
   "execution_count": 87,
   "metadata": {},
   "outputs": [
    {
     "data": {
      "text/plain": [
       "Text(0.5, 1.0, 'Cluster Makeup')"
      ]
     },
     "execution_count": 87,
     "metadata": {},
     "output_type": "execute_result"
    },
    {
     "data": {
      "image/png": "[encoded data removed]",
      "text/plain": [
       "<Figure size 720x720 with 2 Axes>"
      ]
     },
     "metadata": {},
     "output_type": "display_data"
    }
   ],
   "source": [
    "fig, ax = plt.subplots(figsize=(10,10))\n",
    "sns.heatmap(kmeans_df.iloc[0:13, 0:5], annot=True)\n",
    "#sns.heatmap(kmeans_df, annot=True)\n",
    "ax.set_yticklabels(np.arange(1,14))\n",
    "plt.title('Cluster Makeup')"
   ]
  },
  {
   "cell_type": "code",
   "execution_count": 107,
   "metadata": {},
   "outputs": [
    {
     "data": {
      "text/plain": [
       "(42962,)"
      ]
     },
     "execution_count": 107,
     "metadata": {},
     "output_type": "execute_result"
    }
   ],
   "source": [
    "kmeans.predict(train_pca).shape"
   ]
  },
  {
   "cell_type": "markdown",
   "metadata": {},
   "source": [
    "# Creating a feature for prediction\n"
   ]
  },
  {
   "cell_type": "code",
   "execution_count": 132,
   "metadata": {},
   "outputs": [],
   "source": [
    "train_cluster_df = pd.DataFrame(kmeans.predict(train_pca), columns=['cluster'], index=X_total_train.index)\n",
    "test_cluster_df = pd.DataFrame(kmeans.predict(test_pca), columns=['cluster'], index=X_test.index)"
   ]
  },
  {
   "cell_type": "code",
   "execution_count": 133,
   "metadata": {},
   "outputs": [
    {
     "data": {
      "text/plain": [
       "0    9874\n",
       "6    8425\n",
       "4    7013\n",
       "1    6624\n",
       "3    5807\n",
       "5    4631\n",
       "2     588\n",
       "Name: cluster, dtype: int64"
      ]
     },
     "execution_count": 133,
     "metadata": {},
     "output_type": "execute_result"
    }
   ],
   "source": [
    "train_cluster_df['cluster'].value_counts()"
   ]
  },
  {
   "cell_type": "code",
   "execution_count": 134,
   "metadata": {},
   "outputs": [],
   "source": [
    "train_cluster_df['cluster'] = train_cluster_df['cluster'].replace(0, 4)\n",
    "train_cluster_df['cluster'] = train_cluster_df['cluster'].replace(1, 0)\n",
    "train_cluster_df['cluster'] = train_cluster_df['cluster'].replace(2, 0)\n",
    "train_cluster_df['cluster'] = train_cluster_df['cluster'].replace(3, 0)\n",
    "train_cluster_df['cluster'] = train_cluster_df['cluster'].replace(5, 0)\n",
    "train_cluster_df['cluster'] = train_cluster_df['cluster'].replace(6, 0)\n",
    "\n",
    "\n",
    "train_cluster_df['cluster'] = train_cluster_df['cluster'].replace(4, 1)"
   ]
  },
  {
   "cell_type": "code",
   "execution_count": 135,
   "metadata": {},
   "outputs": [
    {
     "data": {
      "text/plain": [
       "0    26075\n",
       "1    16887\n",
       "Name: cluster, dtype: int64"
      ]
     },
     "execution_count": 135,
     "metadata": {},
     "output_type": "execute_result"
    }
   ],
   "source": [
    "train_cluster_df['cluster'].value_counts()"
   ]
  },
  {
   "cell_type": "code",
   "execution_count": 136,
   "metadata": {},
   "outputs": [
    {
     "data": {
      "text/plain": [
       "0    9801\n",
       "6    8461\n",
       "4    6936\n",
       "1    6564\n",
       "3    5845\n",
       "5    4680\n",
       "2     546\n",
       "Name: cluster, dtype: int64"
      ]
     },
     "execution_count": 136,
     "metadata": {},
     "output_type": "execute_result"
    }
   ],
   "source": [
    "test_cluster_df['cluster'].value_counts()"
   ]
  },
  {
   "cell_type": "code",
   "execution_count": 137,
   "metadata": {},
   "outputs": [],
   "source": [
    "test_cluster_df['cluster'] = test_cluster_df['cluster'].replace(0, 4)\n",
    "test_cluster_df['cluster'] = test_cluster_df['cluster'].replace(1, 0)\n",
    "test_cluster_df['cluster'] = test_cluster_df['cluster'].replace(2, 0)\n",
    "test_cluster_df['cluster'] = test_cluster_df['cluster'].replace(3, 0)\n",
    "test_cluster_df['cluster'] = test_cluster_df['cluster'].replace(5, 0)\n",
    "test_cluster_df['cluster'] = test_cluster_df['cluster'].replace(6, 0)\n",
    "\n",
    "\n",
    "test_cluster_df['cluster'] = test_cluster_df['cluster'].replace(4, 1)"
   ]
  },
  {
   "cell_type": "code",
   "execution_count": 138,
   "metadata": {},
   "outputs": [
    {
     "data": {
      "text/plain": [
       "0    26096\n",
       "1    16737\n",
       "Name: cluster, dtype: int64"
      ]
     },
     "execution_count": 138,
     "metadata": {},
     "output_type": "execute_result"
    }
   ],
   "source": [
    "test_cluster_df['cluster'].value_counts()"
   ]
  },
  {
   "cell_type": "code",
   "execution_count": 139,
   "metadata": {},
   "outputs": [
    {
     "name": "stdout",
     "output_type": "stream",
     "text": [
      "(42962, 1)\n",
      "(42833, 1)\n"
     ]
    }
   ],
   "source": [
    "print(train_cluster_df.shape)\n",
    "print(test_cluster_df.shape)"
   ]
  },
  {
   "cell_type": "code",
   "execution_count": 140,
   "metadata": {},
   "outputs": [],
   "source": [
    "train_cluster_df.to_csv('experimentation/train_cluster_1_or_5.csv')\n",
    "train_cluster_df.to_csv('experimentation/test_cluster_1_or_5.csv')"
   ]
  },
  {
   "cell_type": "code",
   "execution_count": null,
   "metadata": {},
   "outputs": [],
   "source": []
  }
 ],
 "metadata": {
  "kernelspec": {
   "display_name": "Python 3",
   "language": "python",
   "name": "python3"
  },
  "language_info": {
   "codemirror_mode": {
    "name": "ipython",
    "version": 3
   },
   "file_extension": ".py",
   "mimetype": "text/x-python",
   "name": "python",
   "nbconvert_exporter": "python",
   "pygments_lexer": "ipython3",
   "version": "3.6.8"
  }
 },
 "nbformat": 4,
 "nbformat_minor": 4
}
