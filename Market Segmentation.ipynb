{
 "cells": [
  {
   "cell_type": "code",
   "execution_count": 1,
   "metadata": {},
   "outputs": [],
   "source": [
    "# import boto3\n",
    "import pandas as pd\n",
    "import numpy as np\n",
    "from sklearn.preprocessing import MinMaxScaler\n",
    "from sklearn.decomposition import PCA\n",
    "from sklearn.cluster import KMeans\n",
    "import matplotlib.pyplot as plt\n",
    "import seaborn as sns\n",
    "plt.style.use('ggplot')"
   ]
  },
  {
   "cell_type": "code",
   "execution_count": 2,
   "metadata": {},
   "outputs": [
    {
     "name": "stderr",
     "output_type": "stream",
     "text": [
      "/Users/richard.wuebker/.pyenv/versions/science/lib/python3.6/site-packages/IPython/core/interactiveshell.py:3063: DtypeWarning: Columns (18,19) have mixed types.Specify dtype option on import or set low_memory=False.\n",
      "  interactivity=interactivity, compiler=compiler, result=result)\n"
     ]
    },
    {
     "name": "stdout",
     "output_type": "stream",
     "text": [
      "(891221, 365)\n"
     ]
    }
   ],
   "source": [
    "germany_df = pd.read_csv('data/Udacity_AZDIAS_052018.csv', sep=';', index_col='LNR')\n",
    "customers_df = pd.read_csv('data/Udacity_CUSTOMERS_052018.csv', sep=';', index_col='LNR')\n",
    "train_df = pd.read_csv('data/Udacity_MAILOUT_052018_TRAIN.csv', sep=';', index_col='LNR')\n",
    "test_df = pd.read_csv('data/Udacity_MAILOUT_052018_TEST.csv', sep=';', index_col='LNR')\n",
    "metadata = pd.read_csv('data/metadata.csv')\n",
    "print(germany_df.shape)"
   ]
  },
  {
   "cell_type": "code",
   "execution_count": 3,
   "metadata": {},
   "outputs": [
    {
     "data": {
      "text/html": [
       "<div>\n",
       "<style scoped>\n",
       "    .dataframe tbody tr th:only-of-type {\n",
       "        vertical-align: middle;\n",
       "    }\n",
       "\n",
       "    .dataframe tbody tr th {\n",
       "        vertical-align: top;\n",
       "    }\n",
       "\n",
       "    .dataframe thead th {\n",
       "        text-align: right;\n",
       "    }\n",
       "</style>\n",
       "<table border=\"1\" class=\"dataframe\">\n",
       "  <thead>\n",
       "    <tr style=\"text-align: right;\">\n",
       "      <th></th>\n",
       "      <th>feature_name</th>\n",
       "      <th>type</th>\n",
       "      <th>unknown_neg_one</th>\n",
       "      <th>unknown_zero</th>\n",
       "      <th>unknown_nine</th>\n",
       "      <th>zero_none</th>\n",
       "      <th>needs_reverse</th>\n",
       "      <th>keep</th>\n",
       "    </tr>\n",
       "  </thead>\n",
       "  <tbody>\n",
       "    <tr>\n",
       "      <th>0</th>\n",
       "      <td>AGER_TYP</td>\n",
       "      <td>ordinal</td>\n",
       "      <td>1</td>\n",
       "      <td>1</td>\n",
       "      <td>0</td>\n",
       "      <td>0</td>\n",
       "      <td>0</td>\n",
       "      <td>1</td>\n",
       "    </tr>\n",
       "    <tr>\n",
       "      <th>1</th>\n",
       "      <td>ALTERSKATEGORIE_GROB</td>\n",
       "      <td>ordinal</td>\n",
       "      <td>1</td>\n",
       "      <td>1</td>\n",
       "      <td>1</td>\n",
       "      <td>0</td>\n",
       "      <td>0</td>\n",
       "      <td>1</td>\n",
       "    </tr>\n",
       "    <tr>\n",
       "      <th>2</th>\n",
       "      <td>ALTER_HH</td>\n",
       "      <td>ordinal</td>\n",
       "      <td>0</td>\n",
       "      <td>1</td>\n",
       "      <td>0</td>\n",
       "      <td>0</td>\n",
       "      <td>0</td>\n",
       "      <td>1</td>\n",
       "    </tr>\n",
       "    <tr>\n",
       "      <th>3</th>\n",
       "      <td>ANREDE_KZ</td>\n",
       "      <td>categorical</td>\n",
       "      <td>1</td>\n",
       "      <td>1</td>\n",
       "      <td>0</td>\n",
       "      <td>0</td>\n",
       "      <td>0</td>\n",
       "      <td>1</td>\n",
       "    </tr>\n",
       "    <tr>\n",
       "      <th>4</th>\n",
       "      <td>ANZ_HAUSHALTE_AKTIV</td>\n",
       "      <td>ordinal</td>\n",
       "      <td>0</td>\n",
       "      <td>0</td>\n",
       "      <td>0</td>\n",
       "      <td>0</td>\n",
       "      <td>0</td>\n",
       "      <td>1</td>\n",
       "    </tr>\n",
       "  </tbody>\n",
       "</table>\n",
       "</div>"
      ],
      "text/plain": [
       "           feature_name         type  unknown_neg_one  unknown_zero  \\\n",
       "0              AGER_TYP      ordinal                1             1   \n",
       "1  ALTERSKATEGORIE_GROB      ordinal                1             1   \n",
       "2              ALTER_HH      ordinal                0             1   \n",
       "3             ANREDE_KZ  categorical                1             1   \n",
       "4   ANZ_HAUSHALTE_AKTIV      ordinal                0             0   \n",
       "\n",
       "   unknown_nine  zero_none  needs_reverse  keep  \n",
       "0             0          0              0     1  \n",
       "1             1          0              0     1  \n",
       "2             0          0              0     1  \n",
       "3             0          0              0     1  \n",
       "4             0          0              0     1  "
      ]
     },
     "execution_count": 3,
     "metadata": {},
     "output_type": "execute_result"
    }
   ],
   "source": [
    "metadata.head()"
   ]
  },
  {
   "cell_type": "code",
   "execution_count": 4,
   "metadata": {},
   "outputs": [],
   "source": [
    "def reverse_order(val, mx, mn):\n",
    "    diff_from_low = val - mn\n",
    "    return mx - diff_from_low\n",
    "\n",
    "\n",
    "def clean_data(df, metadata, drop_threshold=20):\n",
    "    # keep features that exist in the metadata file\n",
    "    keep_features = list(metadata[metadata['keep'] == 1]['feature_name'])\n",
    "\n",
    "    df = df[keep_features]\n",
    "    \n",
    "    # drop special cases\n",
    "    df = df[df['CAMEO_DEUG_2015'] != 'X']\n",
    "    df = df[df['CAMEO_DEU_2015'] != 'XX']\n",
    "    \n",
    "    # set zero to negative one where zero means unknown\n",
    "    unknown_zero_features = list(metadata[metadata['unknown_zero'] == 1]['feature_name'])\n",
    "    for feature in unknown_zero_features:\n",
    "        df.loc[df[feature] == 0, feature] = -1\n",
    "        \n",
    "    # set nine to negative one where nine means unknown\n",
    "    unknown_nine_features = list(metadata[metadata['unknown_nine'] == 1]['feature_name'])\n",
    "    for feature in unknown_nine_features:\n",
    "        df.loc[df[feature] == 9, feature] = -1\n",
    "        \n",
    "    # set -1 (unknown) to np.nan\n",
    "    df = df.replace(-1, np.nan)\n",
    "    \n",
    "    # one hot encode categorical variables\n",
    "    one_hot_cols = list(metadata.loc[(metadata['type'] == 'categorical') & (metadata['keep'] == 1), 'feature_name'])            \n",
    "    df = pd.get_dummies(df, prefix=one_hot_cols, columns=one_hot_cols)\n",
    "    \n",
    "    \n",
    "    # drop features with percentage of missing columns > drop_threshold\n",
    "    percent_missing = df.isnull().sum() * 100 / len(df)\n",
    "    mv_df = pd.DataFrame({'column_name': df.columns, 'percent_missing': percent_missing})\n",
    "    mv_cols = mv_df.loc[mv_df['percent_missing'] > drop_threshold]['column_name']    \n",
    "    df = df.drop(list(mv_cols), axis=1)\n",
    "    \n",
    "    # drop na\n",
    "    df = df.dropna()\n",
    "    \n",
    "    # set all to float\n",
    "    df = df.astype('float32')\n",
    "    \n",
    "    if False:\n",
    "        # reverse some columns so they make more intuitive sense\n",
    "        reverse_cols = list(metadata.loc[metadata['needs_reverse'] == 1, 'feature_name'])\n",
    "        df_cols = list(df.columns)\n",
    "        for col in reverse_cols:\n",
    "            if col in df_cols:\n",
    "                series = df[col]\n",
    "                df[col] = series.apply(reverse_order, args=(np.max(series), np.min(series)))\n",
    "    \n",
    "    return df"
   ]
  },
  {
   "cell_type": "code",
   "execution_count": 6,
   "metadata": {},
   "outputs": [
    {
     "name": "stdout",
     "output_type": "stream",
     "text": [
      "(616864, 371)\n",
      "(114703, 372)\n"
     ]
    }
   ],
   "source": [
    "clean_g_data = clean_data(germany_df, metadata)\n",
    "print(clean_g_data.shape)\n",
    "clean_c_data = clean_data(customers_df, metadata, drop_threshold=32)\n",
    "print(clean_c_data.shape)"
   ]
  },
  {
   "cell_type": "code",
   "execution_count": 7,
   "metadata": {},
   "outputs": [
    {
     "name": "stdout",
     "output_type": "stream",
     "text": [
      "(616864, 369)\n",
      "(114703, 369)\n"
     ]
    }
   ],
   "source": [
    "g_cols = set(clean_g_data.columns)\n",
    "c_cols = set(clean_c_data.columns)\n",
    "intersection = set.intersection(g_cols, c_cols)\n",
    "\n",
    "clean_g_data = clean_g_data[list(intersection)]\n",
    "clean_c_data = clean_c_data[list(intersection)]\n",
    "assert(sorted(list(clean_g_data.columns)) == sorted(list(clean_c_data.columns)))\n",
    "\n",
    "print(clean_g_data.shape)\n",
    "print(clean_c_data.shape)"
   ]
  },
  {
   "cell_type": "code",
   "execution_count": 8,
   "metadata": {},
   "outputs": [
    {
     "data": {
      "text/html": [
       "<div>\n",
       "<style scoped>\n",
       "    .dataframe tbody tr th:only-of-type {\n",
       "        vertical-align: middle;\n",
       "    }\n",
       "\n",
       "    .dataframe tbody tr th {\n",
       "        vertical-align: top;\n",
       "    }\n",
       "\n",
       "    .dataframe thead th {\n",
       "        text-align: right;\n",
       "    }\n",
       "</style>\n",
       "<table border=\"1\" class=\"dataframe\">\n",
       "  <thead>\n",
       "    <tr style=\"text-align: right;\">\n",
       "      <th></th>\n",
       "      <th>CAMEO_DEU_2015_1E</th>\n",
       "      <th>KBA13_CCM_1800</th>\n",
       "      <th>GFK_URLAUBERTYP_9.0</th>\n",
       "      <th>HEALTH_TYP_3.0</th>\n",
       "      <th>SEMIO_DOM</th>\n",
       "      <th>KBA13_SEG_SPORTWAGEN</th>\n",
       "    </tr>\n",
       "  </thead>\n",
       "  <tbody>\n",
       "    <tr>\n",
       "      <th>1</th>\n",
       "      <td>0.0</td>\n",
       "      <td>2.0</td>\n",
       "      <td>0.0</td>\n",
       "      <td>1.0</td>\n",
       "      <td>7.0</td>\n",
       "      <td>3.0</td>\n",
       "    </tr>\n",
       "    <tr>\n",
       "      <th>2</th>\n",
       "      <td>0.0</td>\n",
       "      <td>4.0</td>\n",
       "      <td>0.0</td>\n",
       "      <td>1.0</td>\n",
       "      <td>7.0</td>\n",
       "      <td>4.0</td>\n",
       "    </tr>\n",
       "    <tr>\n",
       "      <th>4</th>\n",
       "      <td>0.0</td>\n",
       "      <td>3.0</td>\n",
       "      <td>0.0</td>\n",
       "      <td>1.0</td>\n",
       "      <td>2.0</td>\n",
       "      <td>4.0</td>\n",
       "    </tr>\n",
       "    <tr>\n",
       "      <th>5</th>\n",
       "      <td>0.0</td>\n",
       "      <td>3.0</td>\n",
       "      <td>0.0</td>\n",
       "      <td>1.0</td>\n",
       "      <td>4.0</td>\n",
       "      <td>3.0</td>\n",
       "    </tr>\n",
       "    <tr>\n",
       "      <th>6</th>\n",
       "      <td>0.0</td>\n",
       "      <td>3.0</td>\n",
       "      <td>0.0</td>\n",
       "      <td>0.0</td>\n",
       "      <td>4.0</td>\n",
       "      <td>3.0</td>\n",
       "    </tr>\n",
       "  </tbody>\n",
       "</table>\n",
       "</div>"
      ],
      "text/plain": [
       "   CAMEO_DEU_2015_1E  KBA13_CCM_1800  GFK_URLAUBERTYP_9.0  HEALTH_TYP_3.0  \\\n",
       "1                0.0             2.0                  0.0             1.0   \n",
       "2                0.0             4.0                  0.0             1.0   \n",
       "4                0.0             3.0                  0.0             1.0   \n",
       "5                0.0             3.0                  0.0             1.0   \n",
       "6                0.0             3.0                  0.0             0.0   \n",
       "\n",
       "   SEMIO_DOM  KBA13_SEG_SPORTWAGEN  \n",
       "1        7.0                   3.0  \n",
       "2        7.0                   4.0  \n",
       "4        2.0                   4.0  \n",
       "5        4.0                   3.0  \n",
       "6        4.0                   3.0  "
      ]
     },
     "execution_count": 8,
     "metadata": {},
     "output_type": "execute_result"
    }
   ],
   "source": [
    "clean_g_data.iloc[0:5, 0:6]"
   ]
  },
  {
   "cell_type": "code",
   "execution_count": 9,
   "metadata": {},
   "outputs": [],
   "source": [
    "clean_g_data.to_csv('data/clean_germany_data.csv', index=False)\n",
    "clean_c_data.to_csv('data/clean_customers_data.csv', index=False)"
   ]
  },
  {
   "cell_type": "code",
   "execution_count": 10,
   "metadata": {},
   "outputs": [
    {
     "name": "stdout",
     "output_type": "stream",
     "text": [
      "(616864, 369)\n",
      "(114703, 369)\n"
     ]
    }
   ],
   "source": [
    "clean_g_data = pd.read_csv('data/clean_germany_data.csv')\n",
    "print(clean_g_data.shape)\n",
    "clean_c_data = pd.read_csv('data/clean_customers_data.csv')\n",
    "print(clean_c_data.shape)"
   ]
  },
  {
   "cell_type": "code",
   "execution_count": 11,
   "metadata": {},
   "outputs": [
    {
     "data": {
      "text/plain": [
       "Index([], dtype='object')"
      ]
     },
     "execution_count": 11,
     "metadata": {},
     "output_type": "execute_result"
    }
   ],
   "source": [
    "string_df = clean_g_data.select_dtypes(exclude=[np.number])\n",
    "string_df.columns"
   ]
  },
  {
   "cell_type": "code",
   "execution_count": 12,
   "metadata": {},
   "outputs": [
    {
     "name": "stdout",
     "output_type": "stream",
     "text": [
      "(616864, 369)\n",
      "(114703, 369)\n"
     ]
    }
   ],
   "source": [
    "scaler = MinMaxScaler()\n",
    "germany_scaled_df = pd.DataFrame(scaler.fit_transform(clean_g_data.astype(float)))\n",
    "print(germany_scaled_df.shape)\n",
    "\n",
    "customers_scaled_df = pd.DataFrame(scaler.fit_transform(clean_c_data.astype(float)))\n",
    "print(customers_scaled_df.shape)"
   ]
  },
  {
   "cell_type": "code",
   "execution_count": 19,
   "metadata": {},
   "outputs": [
    {
     "name": "stdout",
     "output_type": "stream",
     "text": [
      "0.9004317702669766\n"
     ]
    }
   ],
   "source": [
    "NUM_COMPONENTS = 152\n",
    "pca = PCA(n_components=NUM_COMPONENTS)\n",
    "pca.fit(germany_scaled_df)\n",
    "print(np.sum(pca.explained_variance_ratio_))"
   ]
  },
  {
   "cell_type": "code",
   "execution_count": 20,
   "metadata": {},
   "outputs": [
    {
     "data": {
      "text/plain": [
       "0.9004317702669766"
      ]
     },
     "execution_count": 20,
     "metadata": {},
     "output_type": "execute_result"
    }
   ],
   "source": [
    "np.sum(pca.explained_variance_ratio_[:152])"
   ]
  },
  {
   "cell_type": "code",
   "execution_count": 21,
   "metadata": {},
   "outputs": [
    {
     "data": {
      "text/plain": [
       "369"
      ]
     },
     "execution_count": 21,
     "metadata": {},
     "output_type": "execute_result"
    }
   ],
   "source": [
    "features_list = list(clean_g_data.columns)\n",
    "len(features_list)"
   ]
  },
  {
   "cell_type": "code",
   "execution_count": 22,
   "metadata": {},
   "outputs": [
    {
     "data": {
      "text/html": [
       "<div>\n",
       "<style scoped>\n",
       "    .dataframe tbody tr th:only-of-type {\n",
       "        vertical-align: middle;\n",
       "    }\n",
       "\n",
       "    .dataframe tbody tr th {\n",
       "        vertical-align: top;\n",
       "    }\n",
       "\n",
       "    .dataframe thead th {\n",
       "        text-align: right;\n",
       "    }\n",
       "</style>\n",
       "<table border=\"1\" class=\"dataframe\">\n",
       "  <thead>\n",
       "    <tr style=\"text-align: right;\">\n",
       "      <th></th>\n",
       "      <th>CAMEO_DEU_2015_1E</th>\n",
       "      <th>KBA13_CCM_1800</th>\n",
       "      <th>GFK_URLAUBERTYP_9.0</th>\n",
       "      <th>HEALTH_TYP_3.0</th>\n",
       "      <th>SEMIO_DOM</th>\n",
       "      <th>KBA13_SEG_SPORTWAGEN</th>\n",
       "      <th>KBA13_HERST_SONST</th>\n",
       "      <th>CAMEO_DEU_2015_6E</th>\n",
       "      <th>VERS_TYP_1.0</th>\n",
       "      <th>NATIONALITAET_KZ_1.0</th>\n",
       "      <th>...</th>\n",
       "      <th>ZABEOTYP_6</th>\n",
       "      <th>NATIONALITAET_KZ_2.0</th>\n",
       "      <th>ONLINE_AFFINITAET</th>\n",
       "      <th>KBA13_ALTERHALTER_60</th>\n",
       "      <th>D19_KONSUMTYP_4.0</th>\n",
       "      <th>SEMIO_TRADV</th>\n",
       "      <th>ZABEOTYP_3</th>\n",
       "      <th>GEBAEUDETYP_RASTER_3.0</th>\n",
       "      <th>FINANZ_MINIMALIST</th>\n",
       "      <th>KBA13_KRSAQUOT</th>\n",
       "    </tr>\n",
       "  </thead>\n",
       "  <tbody>\n",
       "    <tr>\n",
       "      <th>147</th>\n",
       "      <td>0.002315</td>\n",
       "      <td>-0.031445</td>\n",
       "      <td>0.013352</td>\n",
       "      <td>0.001281</td>\n",
       "      <td>0.010610</td>\n",
       "      <td>0.015530</td>\n",
       "      <td>-0.006578</td>\n",
       "      <td>-0.010906</td>\n",
       "      <td>0.004555</td>\n",
       "      <td>0.012253</td>\n",
       "      <td>...</td>\n",
       "      <td>0.022569</td>\n",
       "      <td>0.028449</td>\n",
       "      <td>0.015052</td>\n",
       "      <td>0.008378</td>\n",
       "      <td>-0.011357</td>\n",
       "      <td>0.020030</td>\n",
       "      <td>0.002416</td>\n",
       "      <td>0.003093</td>\n",
       "      <td>-0.021194</td>\n",
       "      <td>-0.030362</td>\n",
       "    </tr>\n",
       "    <tr>\n",
       "      <th>148</th>\n",
       "      <td>0.007144</td>\n",
       "      <td>0.016024</td>\n",
       "      <td>-0.067523</td>\n",
       "      <td>-0.009172</td>\n",
       "      <td>-0.012370</td>\n",
       "      <td>-0.067671</td>\n",
       "      <td>-0.021463</td>\n",
       "      <td>0.027169</td>\n",
       "      <td>0.001128</td>\n",
       "      <td>0.006118</td>\n",
       "      <td>...</td>\n",
       "      <td>-0.008623</td>\n",
       "      <td>-0.002344</td>\n",
       "      <td>0.005741</td>\n",
       "      <td>0.004660</td>\n",
       "      <td>-0.021861</td>\n",
       "      <td>0.058198</td>\n",
       "      <td>0.014948</td>\n",
       "      <td>0.003568</td>\n",
       "      <td>0.054527</td>\n",
       "      <td>-0.081996</td>\n",
       "    </tr>\n",
       "    <tr>\n",
       "      <th>149</th>\n",
       "      <td>0.009041</td>\n",
       "      <td>0.002386</td>\n",
       "      <td>-0.044701</td>\n",
       "      <td>-0.006062</td>\n",
       "      <td>-0.013515</td>\n",
       "      <td>-0.131905</td>\n",
       "      <td>0.009108</td>\n",
       "      <td>0.028436</td>\n",
       "      <td>0.005000</td>\n",
       "      <td>-0.002039</td>\n",
       "      <td>...</td>\n",
       "      <td>-0.017394</td>\n",
       "      <td>0.025563</td>\n",
       "      <td>-0.001199</td>\n",
       "      <td>0.006148</td>\n",
       "      <td>0.003660</td>\n",
       "      <td>0.021300</td>\n",
       "      <td>0.000170</td>\n",
       "      <td>-0.006377</td>\n",
       "      <td>0.007729</td>\n",
       "      <td>0.131851</td>\n",
       "    </tr>\n",
       "    <tr>\n",
       "      <th>150</th>\n",
       "      <td>0.003275</td>\n",
       "      <td>0.022622</td>\n",
       "      <td>-0.018257</td>\n",
       "      <td>0.003979</td>\n",
       "      <td>0.032710</td>\n",
       "      <td>0.168124</td>\n",
       "      <td>-0.029678</td>\n",
       "      <td>0.006641</td>\n",
       "      <td>0.004788</td>\n",
       "      <td>0.013252</td>\n",
       "      <td>...</td>\n",
       "      <td>0.022657</td>\n",
       "      <td>0.019953</td>\n",
       "      <td>0.002738</td>\n",
       "      <td>0.014848</td>\n",
       "      <td>-0.019453</td>\n",
       "      <td>0.021343</td>\n",
       "      <td>-0.002753</td>\n",
       "      <td>-0.003562</td>\n",
       "      <td>0.004779</td>\n",
       "      <td>0.061758</td>\n",
       "    </tr>\n",
       "    <tr>\n",
       "      <th>151</th>\n",
       "      <td>0.004032</td>\n",
       "      <td>0.005482</td>\n",
       "      <td>0.012832</td>\n",
       "      <td>0.022191</td>\n",
       "      <td>-0.081581</td>\n",
       "      <td>0.133937</td>\n",
       "      <td>-0.036298</td>\n",
       "      <td>-0.011797</td>\n",
       "      <td>-0.005879</td>\n",
       "      <td>-0.011625</td>\n",
       "      <td>...</td>\n",
       "      <td>-0.026831</td>\n",
       "      <td>-0.028627</td>\n",
       "      <td>-0.004863</td>\n",
       "      <td>-0.001914</td>\n",
       "      <td>0.000499</td>\n",
       "      <td>-0.048857</td>\n",
       "      <td>-0.033665</td>\n",
       "      <td>-0.006020</td>\n",
       "      <td>-0.013207</td>\n",
       "      <td>0.141556</td>\n",
       "    </tr>\n",
       "  </tbody>\n",
       "</table>\n",
       "<p>5 rows × 369 columns</p>\n",
       "</div>"
      ],
      "text/plain": [
       "     CAMEO_DEU_2015_1E  KBA13_CCM_1800  GFK_URLAUBERTYP_9.0  HEALTH_TYP_3.0  \\\n",
       "147           0.002315       -0.031445             0.013352        0.001281   \n",
       "148           0.007144        0.016024            -0.067523       -0.009172   \n",
       "149           0.009041        0.002386            -0.044701       -0.006062   \n",
       "150           0.003275        0.022622            -0.018257        0.003979   \n",
       "151           0.004032        0.005482             0.012832        0.022191   \n",
       "\n",
       "     SEMIO_DOM  KBA13_SEG_SPORTWAGEN  KBA13_HERST_SONST  CAMEO_DEU_2015_6E  \\\n",
       "147   0.010610              0.015530          -0.006578          -0.010906   \n",
       "148  -0.012370             -0.067671          -0.021463           0.027169   \n",
       "149  -0.013515             -0.131905           0.009108           0.028436   \n",
       "150   0.032710              0.168124          -0.029678           0.006641   \n",
       "151  -0.081581              0.133937          -0.036298          -0.011797   \n",
       "\n",
       "     VERS_TYP_1.0  NATIONALITAET_KZ_1.0  ...  ZABEOTYP_6  \\\n",
       "147      0.004555              0.012253  ...    0.022569   \n",
       "148      0.001128              0.006118  ...   -0.008623   \n",
       "149      0.005000             -0.002039  ...   -0.017394   \n",
       "150      0.004788              0.013252  ...    0.022657   \n",
       "151     -0.005879             -0.011625  ...   -0.026831   \n",
       "\n",
       "     NATIONALITAET_KZ_2.0  ONLINE_AFFINITAET  KBA13_ALTERHALTER_60  \\\n",
       "147              0.028449           0.015052              0.008378   \n",
       "148             -0.002344           0.005741              0.004660   \n",
       "149              0.025563          -0.001199              0.006148   \n",
       "150              0.019953           0.002738              0.014848   \n",
       "151             -0.028627          -0.004863             -0.001914   \n",
       "\n",
       "     D19_KONSUMTYP_4.0  SEMIO_TRADV  ZABEOTYP_3  GEBAEUDETYP_RASTER_3.0  \\\n",
       "147          -0.011357     0.020030    0.002416                0.003093   \n",
       "148          -0.021861     0.058198    0.014948                0.003568   \n",
       "149           0.003660     0.021300    0.000170               -0.006377   \n",
       "150          -0.019453     0.021343   -0.002753               -0.003562   \n",
       "151           0.000499    -0.048857   -0.033665               -0.006020   \n",
       "\n",
       "     FINANZ_MINIMALIST  KBA13_KRSAQUOT  \n",
       "147          -0.021194       -0.030362  \n",
       "148           0.054527       -0.081996  \n",
       "149           0.007729        0.131851  \n",
       "150           0.004779        0.061758  \n",
       "151          -0.013207        0.141556  \n",
       "\n",
       "[5 rows x 369 columns]"
      ]
     },
     "execution_count": 22,
     "metadata": {},
     "output_type": "execute_result"
    }
   ],
   "source": [
    "feature_weights = pca.components_\n",
    "w_df = pd.DataFrame(feature_weights, columns=clean_g_data.columns)\n",
    "w_df.tail()"
   ]
  },
  {
   "cell_type": "code",
   "execution_count": 23,
   "metadata": {},
   "outputs": [],
   "source": [
    "def display_component(v, features_list, component_num, n_weights=10):\n",
    "    v_1_row = v.iloc[component_num, :]\n",
    "    v_1 = np.squeeze(v_1_row.values)\n",
    "    weights = pd.DataFrame(list(zip(v_1, features_list)), columns=['weight', 'feature'])\n",
    "    weights['abs_weight'] = weights['weight'].apply(lambda x: np.abs(x))\n",
    "    sorted_weight_data = weights.sort_values('abs_weight', ascending=False).head(n_weights)\n",
    "    ax = plt.subplots(figsize=(9,7))\n",
    "    ax = sns.barplot(data=sorted_weight_data, x='weight', y='feature', palette='Blues_d')\n",
    "    ax.set_title(f'PCA Component Makeup for Component #{component_num}')\n",
    "    plt.show()"
   ]
  },
  {
   "cell_type": "code",
   "execution_count": 95,
   "metadata": {},
   "outputs": [
    {
     "data": {
      "image/png": "[encoded data removed]",
      "text/plain": [
       "<Figure size 648x504 with 1 Axes>"
      ]
     },
     "metadata": {},
     "output_type": "display_data"
    }
   ],
   "source": [
    "num = 2\n",
    "display_component(w_df, features_list, num, n_weights=10)"
   ]
  },
  {
   "cell_type": "code",
   "execution_count": 32,
   "metadata": {},
   "outputs": [],
   "source": [
    "# transform germany and customer data\n",
    "germany_pca_data = pca.transform(germany_scaled_df)"
   ]
  },
  {
   "cell_type": "code",
   "execution_count": 33,
   "metadata": {},
   "outputs": [
    {
     "data": {
      "text/plain": [
       "(616864, 152)"
      ]
     },
     "execution_count": 33,
     "metadata": {},
     "output_type": "execute_result"
    }
   ],
   "source": [
    "germany_pca_data.shape"
   ]
  },
  {
   "cell_type": "code",
   "execution_count": 34,
   "metadata": {},
   "outputs": [],
   "source": [
    "customers_pca_data = pca.transform(customers_scaled_df)"
   ]
  },
  {
   "cell_type": "code",
   "execution_count": 35,
   "metadata": {},
   "outputs": [
    {
     "data": {
      "text/plain": [
       "(114703, 152)"
      ]
     },
     "execution_count": 35,
     "metadata": {},
     "output_type": "execute_result"
    }
   ],
   "source": [
    "customers_pca_data.shape"
   ]
  },
  {
   "cell_type": "code",
   "execution_count": 97,
   "metadata": {},
   "outputs": [
    {
     "name": "stdout",
     "output_type": "stream",
     "text": [
      "k = 1\n",
      "k = 2\n",
      "k = 3\n",
      "k = 4\n",
      "k = 5\n",
      "k = 6\n",
      "k = 7\n",
      "k = 8\n",
      "k = 9\n"
     ]
    }
   ],
   "source": [
    "obs = len(germany_pca_data)\n",
    "distances = []\n",
    "for k in range(1, 10):\n",
    "    print('k = {}'.format(k))\n",
    "    kmeans = KMeans(n_clusters=k)\n",
    "    kmeans.fit(germany_pca_data)\n",
    "    distances.append(kmeans.inertia_/obs)"
   ]
  },
  {
   "cell_type": "code",
   "execution_count": 99,
   "metadata": {},
   "outputs": [
    {
     "data": {
      "text/plain": [
       "Text(0.5, 1.0, 'Elbow curve')"
      ]
     },
     "execution_count": 99,
     "metadata": {},
     "output_type": "execute_result"
    },
    {
     "data": {
      "image/png": "[encoded data removed]",
      "text/plain": [
       "<Figure size 720x720 with 1 Axes>"
      ]
     },
     "metadata": {},
     "output_type": "display_data"
    }
   ],
   "source": [
    "fig = plt.figure(figsize=(10, 10))\n",
    "plt.plot(range(1,10), distances, color='blue')\n",
    "plt.xlim(0, 10)\n",
    "plt.ylim(20,30)\n",
    "plt.grid(True)\n",
    "plt.title('Elbow curve')"
   ]
  },
  {
   "cell_type": "code",
   "execution_count": 100,
   "metadata": {},
   "outputs": [
    {
     "data": {
      "text/plain": [
       "KMeans(n_clusters=2)"
      ]
     },
     "execution_count": 100,
     "metadata": {},
     "output_type": "execute_result"
    }
   ],
   "source": [
    "k = 2\n",
    "kmeans = KMeans(n_clusters=k)\n",
    "kmeans.fit(germany_pca_data)"
   ]
  },
  {
   "cell_type": "code",
   "execution_count": 101,
   "metadata": {},
   "outputs": [
    {
     "name": "stdout",
     "output_type": "stream",
     "text": [
      "616864\n",
      "114703\n"
     ]
    }
   ],
   "source": [
    "germany_pred = kmeans.predict(germany_pca_data)\n",
    "customers_pred = kmeans.predict(customers_pca_data)\n",
    "print(len(germany_pred))\n",
    "print(len(customers_pred))"
   ]
  },
  {
   "cell_type": "code",
   "execution_count": 102,
   "metadata": {},
   "outputs": [],
   "source": [
    "germany_pred_df = pd.DataFrame(germany_pred)\n",
    "germany_values = germany_pred_df[0].value_counts().sort_index()\n",
    "customers_pred_df = pd.DataFrame(customers_pred)\n",
    "customers_values = customers_pred_df[0].value_counts().sort_index()"
   ]
  },
  {
   "cell_type": "code",
   "execution_count": 103,
   "metadata": {},
   "outputs": [
    {
     "data": {
      "text/html": [
       "<div>\n",
       "<style scoped>\n",
       "    .dataframe tbody tr th:only-of-type {\n",
       "        vertical-align: middle;\n",
       "    }\n",
       "\n",
       "    .dataframe tbody tr th {\n",
       "        vertical-align: top;\n",
       "    }\n",
       "\n",
       "    .dataframe thead th {\n",
       "        text-align: right;\n",
       "    }\n",
       "</style>\n",
       "<table border=\"1\" class=\"dataframe\">\n",
       "  <thead>\n",
       "    <tr style=\"text-align: right;\">\n",
       "      <th></th>\n",
       "      <th>0</th>\n",
       "    </tr>\n",
       "  </thead>\n",
       "  <tbody>\n",
       "    <tr>\n",
       "      <th>0</th>\n",
       "      <td>1</td>\n",
       "    </tr>\n",
       "    <tr>\n",
       "      <th>1</th>\n",
       "      <td>0</td>\n",
       "    </tr>\n",
       "    <tr>\n",
       "      <th>2</th>\n",
       "      <td>0</td>\n",
       "    </tr>\n",
       "    <tr>\n",
       "      <th>3</th>\n",
       "      <td>0</td>\n",
       "    </tr>\n",
       "    <tr>\n",
       "      <th>4</th>\n",
       "      <td>1</td>\n",
       "    </tr>\n",
       "  </tbody>\n",
       "</table>\n",
       "</div>"
      ],
      "text/plain": [
       "   0\n",
       "0  1\n",
       "1  0\n",
       "2  0\n",
       "3  0\n",
       "4  1"
      ]
     },
     "execution_count": 103,
     "metadata": {},
     "output_type": "execute_result"
    }
   ],
   "source": [
    "germany_pred_df.head()"
   ]
  },
  {
   "cell_type": "code",
   "execution_count": 104,
   "metadata": {},
   "outputs": [
    {
     "data": {
      "text/plain": [
       "<matplotlib.legend.Legend at 0x13c3e2438>"
      ]
     },
     "execution_count": 104,
     "metadata": {},
     "output_type": "execute_result"
    },
    {
     "data": {
      "image/png": "[encoded data removed]",
      "text/plain": [
       "<Figure size 720x504 with 1 Axes>"
      ]
     },
     "metadata": {},
     "output_type": "display_data"
    }
   ],
   "source": [
    "x = np.arange(k)  # the label locations\n",
    "width = 0.35  # the width of the bars\n",
    "\n",
    "fig, ax = plt.subplots(figsize=(10, 7))\n",
    "rects1 = ax.bar(x - width/2, germany_values.values, width, label='Germany', color='blue')\n",
    "rects2 = ax.bar(x + width/2, customers_values.values, width, label='Customers', color='green')\n",
    "\n",
    "# Add some text for labels, title and custom x-axis tick labels, etc.\n",
    "labels = ['C{}'.format(ix + 1) for ix in np.arange(k)]\n",
    "ax.set_ylabel('Number of Observations')\n",
    "ax.set_title('Observations per cluster')\n",
    "ax.set_xticks(x)\n",
    "ax.set_xticklabels(labels)\n",
    "ax.legend()"
   ]
  },
  {
   "cell_type": "code",
   "execution_count": 105,
   "metadata": {},
   "outputs": [
    {
     "data": {
      "text/plain": [
       "Text(0.5, 1.0, 'Ratio of Customers/Germany data for each cluster')"
      ]
     },
     "execution_count": 105,
     "metadata": {},
     "output_type": "execute_result"
    },
    {
     "data": {
      "image/png": "[encoded data removed]",
      "text/plain": [
       "<Figure size 432x288 with 1 Axes>"
      ]
     },
     "metadata": {},
     "output_type": "display_data"
    }
   ],
   "source": [
    "perc = customers_values.values/germany_values.values\n",
    "plt.bar(range(1,k+1), perc)\n",
    "plt.title('Ratio of Customers/Germany data for each cluster')"
   ]
  },
  {
   "cell_type": "code",
   "execution_count": 106,
   "metadata": {},
   "outputs": [
    {
     "data": {
      "text/html": [
       "<div>\n",
       "<style scoped>\n",
       "    .dataframe tbody tr th:only-of-type {\n",
       "        vertical-align: middle;\n",
       "    }\n",
       "\n",
       "    .dataframe tbody tr th {\n",
       "        vertical-align: top;\n",
       "    }\n",
       "\n",
       "    .dataframe thead th {\n",
       "        text-align: right;\n",
       "    }\n",
       "</style>\n",
       "<table border=\"1\" class=\"dataframe\">\n",
       "  <thead>\n",
       "    <tr style=\"text-align: right;\">\n",
       "      <th></th>\n",
       "      <th>comp_1</th>\n",
       "      <th>comp_2</th>\n",
       "      <th>comp_3</th>\n",
       "      <th>comp_4</th>\n",
       "      <th>comp_5</th>\n",
       "      <th>comp_6</th>\n",
       "      <th>comp_7</th>\n",
       "      <th>comp_8</th>\n",
       "      <th>comp_9</th>\n",
       "      <th>comp_10</th>\n",
       "      <th>...</th>\n",
       "      <th>comp_143</th>\n",
       "      <th>comp_144</th>\n",
       "      <th>comp_145</th>\n",
       "      <th>comp_146</th>\n",
       "      <th>comp_147</th>\n",
       "      <th>comp_148</th>\n",
       "      <th>comp_149</th>\n",
       "      <th>comp_150</th>\n",
       "      <th>comp_151</th>\n",
       "      <th>comp_152</th>\n",
       "    </tr>\n",
       "  </thead>\n",
       "  <tbody>\n",
       "    <tr>\n",
       "      <th>0</th>\n",
       "      <td>1.238042</td>\n",
       "      <td>-0.177513</td>\n",
       "      <td>-0.008615</td>\n",
       "      <td>-0.022843</td>\n",
       "      <td>-0.048911</td>\n",
       "      <td>0.030935</td>\n",
       "      <td>0.016144</td>\n",
       "      <td>-0.019799</td>\n",
       "      <td>-0.012398</td>\n",
       "      <td>-0.001027</td>\n",
       "      <td>...</td>\n",
       "      <td>0.002787</td>\n",
       "      <td>-0.001775</td>\n",
       "      <td>0.001593</td>\n",
       "      <td>0.001326</td>\n",
       "      <td>0.000694</td>\n",
       "      <td>0.000344</td>\n",
       "      <td>-0.000698</td>\n",
       "      <td>-0.001501</td>\n",
       "      <td>0.000051</td>\n",
       "      <td>0.001686</td>\n",
       "    </tr>\n",
       "    <tr>\n",
       "      <th>1</th>\n",
       "      <td>-1.275216</td>\n",
       "      <td>0.182843</td>\n",
       "      <td>0.008874</td>\n",
       "      <td>0.023528</td>\n",
       "      <td>0.050380</td>\n",
       "      <td>-0.031864</td>\n",
       "      <td>-0.016629</td>\n",
       "      <td>0.020393</td>\n",
       "      <td>0.012771</td>\n",
       "      <td>0.001058</td>\n",
       "      <td>...</td>\n",
       "      <td>-0.002871</td>\n",
       "      <td>0.001828</td>\n",
       "      <td>-0.001641</td>\n",
       "      <td>-0.001366</td>\n",
       "      <td>-0.000715</td>\n",
       "      <td>-0.000354</td>\n",
       "      <td>0.000719</td>\n",
       "      <td>0.001546</td>\n",
       "      <td>-0.000053</td>\n",
       "      <td>-0.001737</td>\n",
       "    </tr>\n",
       "  </tbody>\n",
       "</table>\n",
       "<p>2 rows × 152 columns</p>\n",
       "</div>"
      ],
      "text/plain": [
       "     comp_1    comp_2    comp_3    comp_4    comp_5    comp_6    comp_7  \\\n",
       "0  1.238042 -0.177513 -0.008615 -0.022843 -0.048911  0.030935  0.016144   \n",
       "1 -1.275216  0.182843  0.008874  0.023528  0.050380 -0.031864 -0.016629   \n",
       "\n",
       "     comp_8    comp_9   comp_10  ...  comp_143  comp_144  comp_145  comp_146  \\\n",
       "0 -0.019799 -0.012398 -0.001027  ...  0.002787 -0.001775  0.001593  0.001326   \n",
       "1  0.020393  0.012771  0.001058  ... -0.002871  0.001828 -0.001641 -0.001366   \n",
       "\n",
       "   comp_147  comp_148  comp_149  comp_150  comp_151  comp_152  \n",
       "0  0.000694  0.000344 -0.000698 -0.001501  0.000051  0.001686  \n",
       "1 -0.000715 -0.000354  0.000719  0.001546 -0.000053 -0.001737  \n",
       "\n",
       "[2 rows x 152 columns]"
      ]
     },
     "execution_count": 106,
     "metadata": {},
     "output_type": "execute_result"
    }
   ],
   "source": [
    "kmeans_df = pd.DataFrame(kmeans.cluster_centers_, columns = ['comp_{}'.format(i) for i in range(1,153)])\n",
    "kmeans_df"
   ]
  },
  {
   "cell_type": "code",
   "execution_count": 107,
   "metadata": {},
   "outputs": [
    {
     "data": {
      "text/plain": [
       "Text(0.5, 1.0, 'Cluster Makeup')"
      ]
     },
     "execution_count": 107,
     "metadata": {},
     "output_type": "execute_result"
    },
    {
     "data": {
      "image/png": "[encoded data removed]",
      "text/plain": [
       "<Figure size 720x720 with 2 Axes>"
      ]
     },
     "metadata": {},
     "output_type": "display_data"
    }
   ],
   "source": [
    "fig, ax = plt.subplots(figsize=(10,10))\n",
    "sns.heatmap(kmeans_df.iloc[0:13, 0:5], annot=True)\n",
    "#sns.heatmap(kmeans_df, annot=True)\n",
    "ax.set_yticklabels(np.arange(1,14))\n",
    "plt.title('Cluster Makeup')"
   ]
  },
  {
   "cell_type": "code",
   "execution_count": null,
   "metadata": {},
   "outputs": [],
   "source": []
  },
  {
   "cell_type": "code",
   "execution_count": null,
   "metadata": {},
   "outputs": [],
   "source": []
  },
  {
   "cell_type": "code",
   "execution_count": null,
   "metadata": {},
   "outputs": [],
   "source": [
    "train_df = pd.read_csv('data/Udacity_MAILOUT_052018_TRAIN.csv', sep=';')\n",
    "test_df = pd.read_csv('data/Udacity_MAILOUT_052018_TEST.csv', sep=';')\n",
    "print(train_df.shape)\n",
    "print(test_df.shape)"
   ]
  },
  {
   "cell_type": "code",
   "execution_count": null,
   "metadata": {},
   "outputs": [],
   "source": [
    "metadata = pd.read_csv('data/metadata.csv')\n",
    "test_df['RESPONSE'] = 0\n",
    "if 'RESPONSE' not in list(metadata['feature_name']):\n",
    "    response = {\n",
    "        'feature_name': 'RESPONSE',\n",
    "        'type': 'ordinal', \n",
    "        'unknown_neg_one': 0,\n",
    "        'unknown_zero': 0,\n",
    "        'unknown_nine': 0,\n",
    "        'zero_none': 0,\n",
    "        'needs_reverse': 0,\n",
    "        'keep': 1\n",
    "    }\n",
    "    metadata = metadata.append(response, ignore_index=True)\n",
    "metadata[metadata['feature_name'] == 'RESPONSE']\n",
    "\n",
    "clean_train = clean_data_part_one(train_df, metadata)\n",
    "clean_test = clean_data_part_one(test_df, metadata)"
   ]
  },
  {
   "cell_type": "code",
   "execution_count": null,
   "metadata": {},
   "outputs": [],
   "source": [
    "percent_missing = clean_train.isnull().sum() * 100 / len(clean_train)\n",
    "missing_value_df = pd.DataFrame({'column_name': clean_train.columns,\n",
    "                                 'percent_missing': percent_missing})\n",
    "missing_value_df.sort_values('percent_missing', inplace=True)\n",
    "\n",
    "f, ax = plt.subplots(figsize=(11,8))\n",
    "plt.bar(missing_value_df['column_name'], missing_value_df['percent_missing'], label={}, color='blue')\n",
    "plt.xticks([])\n",
    "plt.title('Percentage of missing values per each feature (Germany Data)')"
   ]
  },
  {
   "cell_type": "code",
   "execution_count": null,
   "metadata": {},
   "outputs": [],
   "source": [
    "percent_missing = clean_test.isnull().sum() * 100 / len(clean_test)\n",
    "missing_value_df = pd.DataFrame({'column_name': clean_test.columns,\n",
    "                                 'percent_missing': percent_missing})\n",
    "missing_value_df.sort_values('percent_missing', inplace=True)\n",
    "\n",
    "f, ax = plt.subplots(figsize=(11,8))\n",
    "plt.bar(missing_value_df['column_name'], missing_value_df['percent_missing'], label={}, color='blue')\n",
    "plt.xticks([])\n",
    "plt.title('Percentage of missing values per each feature (Germany Data)')"
   ]
  },
  {
   "cell_type": "code",
   "execution_count": null,
   "metadata": {},
   "outputs": [],
   "source": [
    "clean_train = clean_data_part_two(clean_train, metadata, drop_threshold=23)\n",
    "clean_test = clean_data_part_two(clean_test, metadata, drop_threshold=23)\n",
    "print(clean_train.shape)\n",
    "print(clean_test.shape)"
   ]
  },
  {
   "cell_type": "code",
   "execution_count": null,
   "metadata": {},
   "outputs": [],
   "source": [
    "train_cols = set(clean_train.columns)\n",
    "test_cols = set(clean_test.columns)\n",
    "intersection = set.intersection(train_cols, test_cols)\n",
    "\n",
    "clean_train = clean_train[list(intersection)]\n",
    "clean_test = clean_test[list(intersection)]\n",
    "assert(sorted(list(clean_train.columns)) == sorted(list(clean_test.columns)))\n",
    "\n",
    "print(clean_train.shape)\n",
    "print(clean_test.shape)"
   ]
  },
  {
   "cell_type": "code",
   "execution_count": null,
   "metadata": {},
   "outputs": [],
   "source": [
    "y = clean_train['RESPONSE']\n",
    "X = clean_train.drop('RESPONSE', axis=1)"
   ]
  },
  {
   "cell_type": "code",
   "execution_count": null,
   "metadata": {},
   "outputs": [],
   "source": [
    "scaler = MinMaxScaler()\n",
    "train_scaled_df = pd.DataFrame(scaler.fit_transform(X.astype(float)))\n",
    "print(train_scaled_df.shape)"
   ]
  },
  {
   "cell_type": "code",
   "execution_count": null,
   "metadata": {},
   "outputs": [],
   "source": [
    "NUM_COMPONENTS = 174\n",
    "pca = PCA(n_components=NUM_COMPONENTS)\n",
    "pca.fit(train_scaled_df)\n",
    "print(np.sum(pca.explained_variance_ratio_))"
   ]
  },
  {
   "cell_type": "code",
   "execution_count": null,
   "metadata": {},
   "outputs": [],
   "source": [
    "from sklearn.model_selection import train_test_split\n",
    "X_train, X_test, y_train, y_test = train_test_split(X, y, test_size=0.33, random_state=42, stratify=y)"
   ]
  },
  {
   "cell_type": "code",
   "execution_count": null,
   "metadata": {},
   "outputs": [],
   "source": [
    "scaler = MinMaxScaler()\n",
    "train_scaled_df = pd.DataFrame(scaler.fit_transform(X_train.astype(float)))\n",
    "print(train_scaled_df.shape)\n",
    "\n",
    "validation_scaled_df = pd.DataFrame(scaler.fit_transform(X_test.astype(float)))\n",
    "print(validation_scaled_df.shape)"
   ]
  },
  {
   "cell_type": "code",
   "execution_count": null,
   "metadata": {},
   "outputs": [],
   "source": [
    "pca_train = pca.transform(train_scaled_df)\n",
    "pca_validation = pca.transform(validation_scaled_df)"
   ]
  },
  {
   "cell_type": "code",
   "execution_count": null,
   "metadata": {},
   "outputs": [],
   "source": [
    "from sklearn.linear_model import LogisticRegression"
   ]
  },
  {
   "cell_type": "code",
   "execution_count": null,
   "metadata": {},
   "outputs": [],
   "source": [
    "clf = LogisticRegression(penalty='l2', random_state=0)\n",
    "clf.fit(pca_train, y_train)"
   ]
  },
  {
   "cell_type": "code",
   "execution_count": null,
   "metadata": {},
   "outputs": [],
   "source": [
    "clf.score(pca_train, y_train)"
   ]
  },
  {
   "cell_type": "code",
   "execution_count": null,
   "metadata": {},
   "outputs": [],
   "source": [
    "clf.score(pca_validation, y_test)"
   ]
  },
  {
   "cell_type": "code",
   "execution_count": null,
   "metadata": {},
   "outputs": [],
   "source": [
    "y_pred = clf.predict(pca_validation)"
   ]
  },
  {
   "cell_type": "code",
   "execution_count": null,
   "metadata": {},
   "outputs": [],
   "source": [
    "from sklearn.metrics import confusion_matrix"
   ]
  },
  {
   "cell_type": "code",
   "execution_count": null,
   "metadata": {},
   "outputs": [],
   "source": [
    "confusion_matrix(y_test, y_pred)"
   ]
  },
  {
   "cell_type": "code",
   "execution_count": null,
   "metadata": {},
   "outputs": [],
   "source": [
    "y_test.value_counts()"
   ]
  },
  {
   "cell_type": "code",
   "execution_count": null,
   "metadata": {},
   "outputs": [],
   "source": [
    "from imblearn.over_sampling import SMOTE"
   ]
  },
  {
   "cell_type": "code",
   "execution_count": null,
   "metadata": {},
   "outputs": [],
   "source": [
    "oversample = SMOTE()\n",
    "train_smote_X, train_smote_y = oversample.fit_resample(X_train, y_train)"
   ]
  },
  {
   "cell_type": "code",
   "execution_count": null,
   "metadata": {},
   "outputs": [],
   "source": [
    "print(train_smote_X.shape)\n",
    "print(train_smote_y.shape)"
   ]
  },
  {
   "cell_type": "code",
   "execution_count": null,
   "metadata": {},
   "outputs": [],
   "source": [
    "train_smote_y.value_counts()"
   ]
  },
  {
   "cell_type": "code",
   "execution_count": null,
   "metadata": {},
   "outputs": [],
   "source": [
    "clf = LogisticRegression(penalty='l2', random_state=0)\n",
    "clf.fit(train_smote_X, train_smote_y)"
   ]
  },
  {
   "cell_type": "code",
   "execution_count": null,
   "metadata": {},
   "outputs": [],
   "source": [
    "print(clf.score(pca_validation, y_test))\n",
    "y_pred = clf.predict(pca_validation)"
   ]
  },
  {
   "cell_type": "code",
   "execution_count": null,
   "metadata": {},
   "outputs": [],
   "source": [
    "confusion_matrix(y_test, y_pred)"
   ]
  },
  {
   "cell_type": "code",
   "execution_count": null,
   "metadata": {},
   "outputs": [],
   "source": [
    "THRESHOLD = 0.60\n",
    "preds = np.where(clf.predict_proba(pca_validation)[:,1] > THRESHOLD, 1, 0)\n",
    "confusion_matrix(y_test, preds)"
   ]
  },
  {
   "cell_type": "code",
   "execution_count": null,
   "metadata": {},
   "outputs": [],
   "source": [
    "y_test.value_counts()"
   ]
  },
  {
   "cell_type": "code",
   "execution_count": null,
   "metadata": {},
   "outputs": [],
   "source": [
    "y_train.value_counts()"
   ]
  },
  {
   "cell_type": "code",
   "execution_count": null,
   "metadata": {},
   "outputs": [],
   "source": [
    " tn, fp, fn, tp = confusion_matrix(y_test, preds).ravel()\n",
    "print('true positives: ', tp)\n",
    "print('false negatives: ', fn)\n",
    "print('false_positives: ', fp)\n",
    "print('true negatives: ', tn)"
   ]
  },
  {
   "cell_type": "code",
   "execution_count": null,
   "metadata": {},
   "outputs": [],
   "source": [
    "from imblearn.over_sampling import ADASYN\n",
    "oversample = ADASYN()\n",
    "train_adasyn_X, train_adasyn_y = oversample.fit_resample(pca_train, y_train)"
   ]
  },
  {
   "cell_type": "code",
   "execution_count": null,
   "metadata": {},
   "outputs": [],
   "source": [
    "clf = LogisticRegression(penalty='l2', random_state=0)\n",
    "clf.fit(train_adasyn_X, train_adasyn_y)"
   ]
  },
  {
   "cell_type": "code",
   "execution_count": null,
   "metadata": {},
   "outputs": [],
   "source": [
    "THRESHOLD = 0.50\n",
    "preds = np.where(clf.predict_proba(pca_test)[:,1] > THRESHOLD, 1, 0)\n",
    "confusion_matrix(y_test, preds)"
   ]
  },
  {
   "cell_type": "code",
   "execution_count": null,
   "metadata": {},
   "outputs": [],
   "source": [
    "from sklearn.metrics import roc_auc_score"
   ]
  },
  {
   "cell_type": "code",
   "execution_count": null,
   "metadata": {},
   "outputs": [],
   "source": [
    "roc_auc_score(y_test, preds)"
   ]
  },
  {
   "cell_type": "code",
   "execution_count": null,
   "metadata": {},
   "outputs": [],
   "source": []
  },
  {
   "cell_type": "code",
   "execution_count": null,
   "metadata": {},
   "outputs": [],
   "source": []
  },
  {
   "cell_type": "code",
   "execution_count": null,
   "metadata": {},
   "outputs": [],
   "source": [
    "import xgboost as xgb"
   ]
  },
  {
   "cell_type": "code",
   "execution_count": null,
   "metadata": {},
   "outputs": [],
   "source": [
    "y = clean_train['RESPONSE']\n",
    "X = clean_train.drop('RESPONSE', axis=1)"
   ]
  },
  {
   "cell_type": "code",
   "execution_count": null,
   "metadata": {},
   "outputs": [],
   "source": [
    "data_dmatrix = xgb.DMatrix(data=X,label=y)"
   ]
  },
  {
   "cell_type": "code",
   "execution_count": null,
   "metadata": {},
   "outputs": [],
   "source": [
    "X_train, X_test, y_train, y_test = train_test_split(X, y, test_size=0.2, random_state=123, stratify=y)"
   ]
  },
  {
   "cell_type": "code",
   "execution_count": null,
   "metadata": {},
   "outputs": [],
   "source": [
    "oversample = SMOTE()\n",
    "train_smote_X, train_smote_y = oversample.fit_resample(X_train, y_train)"
   ]
  },
  {
   "cell_type": "code",
   "execution_count": null,
   "metadata": {},
   "outputs": [],
   "source": [
    "params = {'max_depth': 1, 'eta': 0.01, 'objective': 'binary:logistic', 'eval_metric': 'rmse', 'alpha': 10, \n",
    "          'lambda': 5, 'n_estimators':5}"
   ]
  },
  {
   "cell_type": "code",
   "execution_count": null,
   "metadata": {},
   "outputs": [],
   "source": [
    "xg_clf = xgb.XGBClassifier(**params)"
   ]
  },
  {
   "cell_type": "code",
   "execution_count": null,
   "metadata": {},
   "outputs": [],
   "source": [
    "xg_clf.fit(train_smote_X, train_smote_y)"
   ]
  },
  {
   "cell_type": "code",
   "execution_count": null,
   "metadata": {},
   "outputs": [],
   "source": [
    "preds = xg_clf.predict(X_test)"
   ]
  },
  {
   "cell_type": "code",
   "execution_count": null,
   "metadata": {},
   "outputs": [],
   "source": [
    "from sklearn.metrics import accuracy_score"
   ]
  },
  {
   "cell_type": "code",
   "execution_count": null,
   "metadata": {},
   "outputs": [],
   "source": [
    "accuracy_score(y_test, preds)"
   ]
  },
  {
   "cell_type": "code",
   "execution_count": null,
   "metadata": {},
   "outputs": [],
   "source": [
    "confusion_matrix(y_test, preds)"
   ]
  },
  {
   "cell_type": "code",
   "execution_count": null,
   "metadata": {},
   "outputs": [],
   "source": [
    "from sklearn.metrics import roc_auc_score"
   ]
  },
  {
   "cell_type": "code",
   "execution_count": null,
   "metadata": {},
   "outputs": [],
   "source": [
    "roc_auc_score(y_test, preds)"
   ]
  },
  {
   "cell_type": "code",
   "execution_count": null,
   "metadata": {},
   "outputs": [],
   "source": []
  }
 ],
 "metadata": {
  "kernelspec": {
   "display_name": "Python 3",
   "language": "python",
   "name": "python3"
  },
  "language_info": {
   "codemirror_mode": {
    "name": "ipython",
    "version": 3
   },
   "file_extension": ".py",
   "mimetype": "text/x-python",
   "name": "python",
   "nbconvert_exporter": "python",
   "pygments_lexer": "ipython3",
   "version": "3.6.8"
  }
 },
 "nbformat": 4,
 "nbformat_minor": 4
}
